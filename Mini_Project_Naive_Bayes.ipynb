{
 "cells": [
  {
   "cell_type": "markdown",
   "metadata": {},
   "source": [
    "# Basic Text Classification with Naive Bayes\n",
    "***\n",
    "In the mini-project, you'll learn the basics of text analysis using a subset of movie reviews from the rotten tomatoes database. You'll also use a fundamental technique in Bayesian inference, called Naive Bayes. This mini-project is based on [Lab 10 of Harvard's CS109](https://github.com/cs109/2015lab10) class.  Please free to go to the original lab for additional exercises and solutions."
   ]
  },
  {
   "cell_type": "code",
   "execution_count": null,
   "metadata": {
    "collapsed": true
   },
   "outputs": [],
   "source": [
    "# accuracy with training set and test set."
   ]
  },
  {
   "cell_type": "code",
   "execution_count": 128,
   "metadata": {
    "collapsed": true
   },
   "outputs": [],
   "source": [
    "%matplotlib inline\n",
    "import numpy as np\n",
    "import scipy as sp\n",
    "import matplotlib as mpl\n",
    "import matplotlib.cm as cm\n",
    "import matplotlib.pyplot as plt\n",
    "import pandas as pd\n",
    "import seaborn as sns\n",
    "from six.moves import range\n",
    "\n",
    "# Setup Pandas\n",
    "pd.set_option('display.width', 500)\n",
    "pd.set_option('display.max_columns', 100)\n",
    "pd.set_option('display.notebook_repr_html', True)\n",
    "\n",
    "# Setup Seaborn\n",
    "sns.set_style(\"whitegrid\")\n",
    "sns.set_context(\"poster\")"
   ]
  },
  {
   "cell_type": "markdown",
   "metadata": {},
   "source": [
    "# Table of Contents\n",
    "\n",
    "* [Rotten Tomatoes Dataset](#Rotten-Tomatoes-Dataset)\n",
    "    * [Explore](#Explore)\n",
    "* [The Vector Space Model and a Search Engine](#The-Vector-Space-Model-and-a-Search-Engine)\n",
    "    * [In Code](#In-Code)\n",
    "* [Naive Bayes](#Naive-Bayes)\n",
    "    * [Multinomial Naive Bayes and Other Likelihood Functions](#Multinomial-Naive-Bayes-and-Other-Likelihood-Functions)\n",
    "    * [Picking Hyperparameters for Naive Bayes and Text Maintenance](#Picking-Hyperparameters-for-Naive-Bayes-and-Text-Maintenance)\n",
    "* [Interpretation](#Interpretation)\n"
   ]
  },
  {
   "cell_type": "markdown",
   "metadata": {},
   "source": [
    "## Rotten Tomatoes Dataset"
   ]
  },
  {
   "cell_type": "code",
   "execution_count": 59,
   "metadata": {},
   "outputs": [
    {
     "data": {
      "text/html": [
       "<div>\n",
       "<style>\n",
       "    .dataframe thead tr:only-child th {\n",
       "        text-align: right;\n",
       "    }\n",
       "\n",
       "    .dataframe thead th {\n",
       "        text-align: left;\n",
       "    }\n",
       "\n",
       "    .dataframe tbody tr th {\n",
       "        vertical-align: top;\n",
       "    }\n",
       "</style>\n",
       "<table border=\"1\" class=\"dataframe\">\n",
       "  <thead>\n",
       "    <tr style=\"text-align: right;\">\n",
       "      <th></th>\n",
       "      <th>critic</th>\n",
       "      <th>fresh</th>\n",
       "      <th>imdb</th>\n",
       "      <th>publication</th>\n",
       "      <th>quote</th>\n",
       "      <th>review_date</th>\n",
       "      <th>rtid</th>\n",
       "      <th>title</th>\n",
       "    </tr>\n",
       "  </thead>\n",
       "  <tbody>\n",
       "    <tr>\n",
       "      <th>27606</th>\n",
       "      <td>Ronald Holloway</td>\n",
       "      <td>fresh</td>\n",
       "      <td>86005</td>\n",
       "      <td>Variety</td>\n",
       "      <td>Measures up to the promise Ballard amply provi...</td>\n",
       "      <td>2008-07-23</td>\n",
       "      <td>12606</td>\n",
       "      <td>Never Cry Wolf</td>\n",
       "    </tr>\n",
       "    <tr>\n",
       "      <th>27607</th>\n",
       "      <td>NaN</td>\n",
       "      <td>fresh</td>\n",
       "      <td>86005</td>\n",
       "      <td>Time Out</td>\n",
       "      <td>For the most part very absorbing, the film suf...</td>\n",
       "      <td>2006-01-26</td>\n",
       "      <td>12606</td>\n",
       "      <td>Never Cry Wolf</td>\n",
       "    </tr>\n",
       "    <tr>\n",
       "      <th>27608</th>\n",
       "      <td>Vincent Canby</td>\n",
       "      <td>fresh</td>\n",
       "      <td>86005</td>\n",
       "      <td>New York Times</td>\n",
       "      <td>Perhaps the best thing about the film is that ...</td>\n",
       "      <td>2004-08-30</td>\n",
       "      <td>12606</td>\n",
       "      <td>Never Cry Wolf</td>\n",
       "    </tr>\n",
       "    <tr>\n",
       "      <th>27609</th>\n",
       "      <td>Dave Kehr</td>\n",
       "      <td>fresh</td>\n",
       "      <td>86005</td>\n",
       "      <td>Chicago Reader</td>\n",
       "      <td>The film is still memorable for its compassion...</td>\n",
       "      <td>2000-01-01</td>\n",
       "      <td>12606</td>\n",
       "      <td>Never Cry Wolf</td>\n",
       "    </tr>\n",
       "    <tr>\n",
       "      <th>27616</th>\n",
       "      <td>Don Druker</td>\n",
       "      <td>fresh</td>\n",
       "      <td>55353</td>\n",
       "      <td>Chicago Reader</td>\n",
       "      <td>It does have enough gritty insights and (for t...</td>\n",
       "      <td>2007-11-13</td>\n",
       "      <td>18541</td>\n",
       "      <td>A Raisin in the Sun</td>\n",
       "    </tr>\n",
       "  </tbody>\n",
       "</table>\n",
       "</div>"
      ],
      "text/plain": [
       "                critic  fresh   imdb     publication                                              quote review_date   rtid                title\n",
       "27606  Ronald Holloway  fresh  86005         Variety  Measures up to the promise Ballard amply provi...  2008-07-23  12606       Never Cry Wolf\n",
       "27607              NaN  fresh  86005        Time Out  For the most part very absorbing, the film suf...  2006-01-26  12606       Never Cry Wolf\n",
       "27608    Vincent Canby  fresh  86005  New York Times  Perhaps the best thing about the film is that ...  2004-08-30  12606       Never Cry Wolf\n",
       "27609        Dave Kehr  fresh  86005  Chicago Reader  The film is still memorable for its compassion...  2000-01-01  12606       Never Cry Wolf\n",
       "27616       Don Druker  fresh  55353  Chicago Reader  It does have enough gritty insights and (for t...  2007-11-13  18541  A Raisin in the Sun"
      ]
     },
     "execution_count": 59,
     "metadata": {},
     "output_type": "execute_result"
    }
   ],
   "source": [
    "critics = pd.read_csv('./critics.csv')\n",
    "#let's drop rows with missing quotes\n",
    "critics = critics[~critics.quote.isnull()]\n",
    "critics.tail()"
   ]
  },
  {
   "cell_type": "code",
   "execution_count": 56,
   "metadata": {},
   "outputs": [
    {
     "data": {
      "text/plain": [
       "<bound method DataFrame.info of                    critic   fresh    imdb                   publication                                              quote review_date       rtid                         title\n",
       "1             Derek Adams   fresh  114709                      Time Out  So ingenious in concept, design and execution ...  2009-10-04       9559                     Toy story\n",
       "2         Richard Corliss   fresh  114709                 TIME Magazine                  The year's most inventive comedy.  2008-08-31       9559                     Toy story\n",
       "3             David Ansen   fresh  114709                      Newsweek  A winning animated feature that has something ...  2008-08-18       9559                     Toy story\n",
       "4           Leonard Klady   fresh  114709                       Variety  The film sports a provocative and appealing st...  2008-06-09       9559                     Toy story\n",
       "5      Jonathan Rosenbaum   fresh  114709                Chicago Reader  An entertaining computer-generated, hyperreali...  2008-03-10       9559                     Toy story\n",
       "6           Michael Booth   fresh  114709                   Denver Post  As Lion King did before it, Toy Story revived ...  2007-05-03       9559                     Toy story\n",
       "7            Geoff Andrew   fresh  114709                      Time Out  The film will probably be more fully appreciat...  2006-06-24       9559                     Toy story\n",
       "8            Janet Maslin   fresh  114709                New York Times  Children will enjoy a new take on the irresist...  2003-05-20       9559                     Toy story\n",
       "9           Kenneth Turan   fresh  114709             Los Angeles Times  Although its computer-generated imagery is imp...  2001-02-13       9559                     Toy story\n",
       "10       Susan Wloszczyna   fresh  114709                     USA Today  How perfect that two of the most popular funny...  2000-01-01       9559                     Toy story\n",
       "11            Roger Ebert   fresh  114709             Chicago Sun-Times  The result is a visionary roller-coaster ride ...  2000-01-01       9559                     Toy story\n",
       "12             John Hartl   fresh  114709                      Film.com  Disney's witty, wondrously imaginative, all-co...  2000-01-01       9559                     Toy story\n",
       "13            Susan Stark   fresh  114709                  Detroit News  Disney's first computer-made animated feature ...  2000-01-01       9559                     Toy story\n",
       "14            Peter Stack   fresh  114709       San Francisco Chronicle  The script, by Lasseter, Pete Docter, Andrew S...  2000-01-01       9559                     Toy story\n",
       "15     James Berardinelli   fresh  114709                     ReelViews  The one big negative about Toy Story involves ...  2000-01-01       9559                     Toy story\n",
       "16             Sean Means   fresh  114709                      Film.com         Technically, Toy Story is nearly flawless.  2000-01-01       9559                     Toy story\n",
       "17           Rita Kempley   fresh  114709               Washington Post  It's a nice change of pace to see the studio d...  2000-01-01       9559                     Toy story\n",
       "18                    NaN   fresh  114709          Entertainment Weekly  I can hardly imagine having more fun at the mo...  1995-11-22       9559                     Toy story\n",
       "19            Roger Moore   fresh  114709              Orlando Sentinel  The great voice acting, the visual puns, all a...  1995-11-22       9559                     Toy story\n",
       "30            Roger Ebert  rotten  113497             Chicago Sun-Times  A gloomy special-effects extravaganza filled w...  2000-01-01      12436                       Jumanji\n",
       "32                    NaN   fresh  113497                     USA Today  A calculated but very entertaining special eff...  2000-01-01      12436                       Jumanji\n",
       "36       Richard Schickel   fresh  107050                 TIME Magazine  Walter Matthau and Jack Lemmon are awfully goo...  2008-08-24      10498                Grumpy Old Men\n",
       "37            Derek Adams  rotten  107050                      Time Out                             Mediocre, regrettably.  2006-06-24      10498                Grumpy Old Men\n",
       "38            Caryn James   fresh  107050                New York Times  Just don't expect their bickering to be on the...  2003-05-20      10498                Grumpy Old Men\n",
       "39     James Berardinelli   fresh  107050                     ReelViews  While it won't come close to my top 10 best li...  2000-01-01      10498                Grumpy Old Men\n",
       "40            Roger Ebert  rotten  107050             Chicago Sun-Times  The movie is too pat and practiced to really b...  2000-01-01      10498                Grumpy Old Men\n",
       "41         Desson Thomson   fresh  107050               Washington Post  If you poke through Grumpy's cheap sentimental...  2000-01-01      10498                Grumpy Old Men\n",
       "47             Liam Lacey  rotten  114885                Globe and Mail  Never escapes the queasy aura of Melrose Place...  2002-04-12      16697             Waiting to Exhale\n",
       "48          Kenneth Turan   fresh  114885             Los Angeles Times  A pleasant if undemanding piece of work that i...  2001-02-13      16697             Waiting to Exhale\n",
       "49        Edward Guthmann  rotten  114885       San Francisco Chronicle  You want the movie to stomp and rejoice and cr...  2000-01-01      16697             Waiting to Exhale\n",
       "...                   ...     ...     ...                           ...                                                ...         ...        ...                           ...\n",
       "27560  Jonathan Rosenbaum   fresh   94347                Chicago Reader  Although most of this is rather familiar stuff...  2000-01-01  770674061       The Year My Voice Broke\n",
       "27561          Hal Hinson   fresh   94347               Washington Post  This isn't an adolescent wish-fulfillment fant...  2000-01-01  770674061       The Year My Voice Broke\n",
       "27563                 NaN  rotten   55471                      Time Out  A complicated film that never really successfu...  2006-02-09      18436         Splendor in the Grass\n",
       "27566          Pat Graham  rotten   63185                Chicago Reader  Robert Aldrich's \"daring\" 1968 mating of lesbi...  2009-04-24  747403171  The Killing of Sister George\n",
       "27570           Dave Kehr   fresh   40506                Chicago Reader  A little windy and rhetorical for my taste, bu...  2008-04-08      18375                     Key Largo\n",
       "27571       Variety Staff   fresh   40506                       Variety  Emphasis is on tension in the telling, and eff...  2008-04-08      18375                     Key Largo\n",
       "27572           Tom Milne   fresh   40506                      Time Out  Although the characters are basically stereoty...  2006-06-24      18375                     Key Largo\n",
       "27573     Bosley Crowther  rotten   40506                New York Times  The script prepared by Mr. Huston and Richard ...  2006-03-25      18375                     Key Largo\n",
       "27574         Bob Longino   fresh  364435  Atlanta Journal-Constitution                          Disturbing and affecting.  2006-08-31  748169836                      Jailbait\n",
       "27575       Carrie Rickey  rotten  364435         Philadelphia Inquirer  Claustrophobic and overwrought, Jailbait is an...  2006-08-18  748169836                      Jailbait\n",
       "27576        Frank Scheck  rotten  364435            Hollywood Reporter  While the stars deliver highly committed perfo...  2006-08-17  748169836                      Jailbait\n",
       "27577          Laura Kern  rotten  364435                New York Times  A stagy, only mildly compelling prison drama t...  2006-08-04  748169836                      Jailbait\n",
       "27578        Lou Lumenick  rotten  364435                 New York Post  I wouldn't have thought it was possible to mak...  2006-08-04  748169836                      Jailbait\n",
       "27579        Jack Mathews  rotten  364435           New York Daily News  The cruelty of the law has been better demonst...  2006-08-04  748169836                      Jailbait\n",
       "27580          Jim Ridley  rotten  364435                 Village Voice  ... the umpteenth prison drama to focus on the...  2006-08-02  748169836                      Jailbait\n",
       "27593       Vincent Canby  rotten   74695                New York Times  Mr. Peckinpah's least interesting, least perso...  2005-05-09      13694                 Cross of Iron\n",
       "27595           Dave Kehr  rotten   42276                Chicago Reader  George Cukor directed, a little impersonally f...  2008-01-11      18781                Born Yesterday\n",
       "27596                 NaN   fresh   42276                      Time Out                                             Magic.  2006-06-24      18781                Born Yesterday\n",
       "27597     Bosley Crowther   fresh   42276                New York Times  More firm in its social implications than ever...  2003-05-20      18781                Born Yesterday\n",
       "27598       Variety Staff  rotten   86969                       Variety  Belying the lightheartedness of its title, Bir...  2008-09-16      15889                         Birdy\n",
       "27599                 NaN   fresh   86969                      Time Out  A trifle self-indulgent -- well, it is directe...  2006-02-09      15889                         Birdy\n",
       "27600         Roger Ebert   fresh   86969             Chicago Sun-Times                A very strange and beautiful movie.  2004-10-23      15889                         Birdy\n",
       "27601        Janet Maslin   fresh   86969                New York Times                       Most of Birdy is enchanting.  2003-05-20      15889                         Birdy\n",
       "27603     Bosley Crowther  rotten   49189                New York Times  We can't recommend this little item as a sampl...  2006-10-30      11854      Et Dieu... créa la femme\n",
       "27605    Richard Schickel   fresh   86005                 TIME Magazine  Ballard and his masterly crew of film makers h...  2009-03-09      12606                Never Cry Wolf\n",
       "27606     Ronald Holloway   fresh   86005                       Variety  Measures up to the promise Ballard amply provi...  2008-07-23      12606                Never Cry Wolf\n",
       "27607                 NaN   fresh   86005                      Time Out  For the most part very absorbing, the film suf...  2006-01-26      12606                Never Cry Wolf\n",
       "27608       Vincent Canby   fresh   86005                New York Times  Perhaps the best thing about the film is that ...  2004-08-30      12606                Never Cry Wolf\n",
       "27609           Dave Kehr   fresh   86005                Chicago Reader  The film is still memorable for its compassion...  2000-01-01      12606                Never Cry Wolf\n",
       "27616          Don Druker   fresh   55353                Chicago Reader  It does have enough gritty insights and (for t...  2007-11-13      18541           A Raisin in the Sun\n",
       "\n",
       "[15561 rows x 8 columns]>"
      ]
     },
     "execution_count": 56,
     "metadata": {},
     "output_type": "execute_result"
    }
   ],
   "source": [
    "critics.info"
   ]
  },
  {
   "cell_type": "markdown",
   "metadata": {},
   "source": [
    "### Explore"
   ]
  },
  {
   "cell_type": "code",
   "execution_count": 60,
   "metadata": {},
   "outputs": [
    {
     "data": {
      "text/plain": [
       "(pandas.core.frame.DataFrame, (15561, 8))"
      ]
     },
     "execution_count": 60,
     "metadata": {},
     "output_type": "execute_result"
    }
   ],
   "source": [
    "# rtid and title should match the number? yes\n",
    "type(critics),critics.shape"
   ]
  },
  {
   "cell_type": "code",
   "execution_count": 61,
   "metadata": {},
   "outputs": [
    {
     "data": {
      "text/plain": [
       "['critic',\n",
       " 'fresh',\n",
       " 'imdb',\n",
       " 'publication',\n",
       " 'quote',\n",
       " 'review_date',\n",
       " 'rtid',\n",
       " 'title']"
      ]
     },
     "execution_count": 61,
     "metadata": {},
     "output_type": "execute_result"
    }
   ],
   "source": [
    "critics_columns=list(critics.columns)\n",
    "critics_columns"
   ]
  },
  {
   "cell_type": "code",
   "execution_count": 62,
   "metadata": {},
   "outputs": [
    {
     "data": {
      "text/plain": [
       "1    So ingenious in concept, design and execution ...\n",
       "2                    The year's most inventive comedy.\n",
       "3    A winning animated feature that has something ...\n",
       "4    The film sports a provocative and appealing st...\n",
       "5    An entertaining computer-generated, hyperreali...\n",
       "Name: quote, dtype: object"
      ]
     },
     "execution_count": 62,
     "metadata": {},
     "output_type": "execute_result"
    }
   ],
   "source": [
    "critics.quote.head()"
   ]
  },
  {
   "cell_type": "code",
   "execution_count": 63,
   "metadata": {},
   "outputs": [
    {
     "data": {
      "text/plain": [
       "1    fresh\n",
       "2    fresh\n",
       "3    fresh\n",
       "4    fresh\n",
       "5    fresh\n",
       "Name: fresh, dtype: object"
      ]
     },
     "execution_count": 63,
     "metadata": {},
     "output_type": "execute_result"
    }
   ],
   "source": [
    "critics.fresh.head()"
   ]
  },
  {
   "cell_type": "code",
   "execution_count": 36,
   "metadata": {},
   "outputs": [
    {
     "data": {
      "text/plain": [
       "array(['fresh', 'rotten', 'none'], dtype=object)"
      ]
     },
     "execution_count": 36,
     "metadata": {},
     "output_type": "execute_result"
    }
   ],
   "source": [
    "critics.fresh.unique()"
   ]
  },
  {
   "cell_type": "code",
   "execution_count": 37,
   "metadata": {},
   "outputs": [
    {
     "data": {
      "text/plain": [
       "pandas.core.series.Series"
      ]
     },
     "execution_count": 37,
     "metadata": {},
     "output_type": "execute_result"
    }
   ],
   "source": [
    "type(critics.quote)"
   ]
  },
  {
   "cell_type": "code",
   "execution_count": 38,
   "metadata": {},
   "outputs": [
    {
     "name": "stdout",
     "output_type": "stream",
     "text": [
      "Number of reviews: 15561\n",
      "Number of critics: 623\n",
      "Number of movies:  1921\n"
     ]
    }
   ],
   "source": [
    "n_reviews = len(critics)\n",
    "n_critics = critics.critic.unique().size\n",
    "n_movies = critics.rtid.unique().size\n",
    "\n",
    "print(\"Number of reviews: {:d}\".format(n_reviews))\n",
    "print(\"Number of critics: {:d}\".format(n_critics))\n",
    "print(\"Number of movies:  {:d}\".format(n_movies))"
   ]
  },
  {
   "cell_type": "code",
   "execution_count": 39,
   "metadata": {
    "collapsed": true
   },
   "outputs": [],
   "source": [
    "# how to understand means[counts > 100].hist(bins=10, edgecolor='w', lw=1) and what does this hist mean? \n",
    "# have reviews over 100 the the distribution is trusted."
   ]
  },
  {
   "cell_type": "code",
   "execution_count": 40,
   "metadata": {},
   "outputs": [
    {
     "data": {
      "image/png": "[encoded data removed]",
      "text/plain": [
       "<matplotlib.figure.Figure at 0x1a159c00f0>"
      ]
     },
     "metadata": {},
     "output_type": "display_data"
    }
   ],
   "source": [
    "df = critics.copy()\n",
    "df['fresh'] = df.fresh == 'fresh'\n",
    "grp = df.groupby('critic')\n",
    "counts = grp.critic.count()  # number of reviews by each critic\n",
    "means = grp.fresh.mean()     # average freshness for each critic\n",
    "\n",
    "means[counts > 100].hist(bins=10, edgecolor='w', lw=1)\n",
    "plt.xlabel(\"Average Rating per critic\")\n",
    "plt.ylabel(\"Number of Critics\")\n",
    "plt.yticks([0, 2, 4, 6, 8, 10]);"
   ]
  },
  {
   "cell_type": "markdown",
   "metadata": {},
   "source": [
    "<div class=\"span5 alert alert-info\">\n",
    "<h3>Exercise Set I</h3>\n",
    "<br/>\n",
    "<b>Exercise:</b> Look at the histogram above. Tell a story about the average ratings per critic. What shape does the distribution look like? What is interesting about the distribution? What might explain these interesting things?\n",
    "</div>"
   ]
  },
  {
   "cell_type": "markdown",
   "metadata": {},
   "source": [
    "## The Vector Space Model and a Search Engine"
   ]
  },
  {
   "cell_type": "markdown",
   "metadata": {},
   "source": [
    "All the diagrams here are snipped from [*Introduction to Information Retrieval* by Manning et. al.]( http://nlp.stanford.edu/IR-book/) which is a great resource on text processing. For additional information on text mining and natural language processing, see [*Foundations of Statistical Natural Language Processing* by Manning and Schutze](http://nlp.stanford.edu/fsnlp/).\n",
    "\n",
    "Also check out Python packages [`nltk`](http://www.nltk.org/), [`spaCy`](https://spacy.io/), [`pattern`](http://www.clips.ua.ac.be/pattern), and their associated resources. Also see [`word2vec`](https://en.wikipedia.org/wiki/Word2vec).\n",
    "\n",
    "Let us define the vector derived from document $d$ by $\\bar V(d)$. What does this mean? Each document is treated as a vector containing information about the words contained in it. Each vector has the same length and each entry \"slot\" in the vector contains some kind of data about the words that appear in the document such as presence/absence (1/0), count (an integer) or some other statistic. Each vector has the same length because each document shared the same vocabulary across the full collection of documents -- this collection is called a *corpus*.\n",
    "\n",
    "To define the vocabulary, we take a union of all words we have seen in all documents. We then just associate an array index with them. So \"hello\" may be at index 5 and \"world\" at index 99.\n",
    "\n",
    "Suppose we have the following corpus:\n",
    "\n",
    "`A Fox one day spied a beautiful bunch of ripe grapes hanging from a vine trained along the branches of a tree. The grapes seemed ready to burst with juice, and the Fox's mouth watered as he gazed longingly at them.`\n",
    "\n",
    "Suppose we treat each sentence as a document $d$. The vocabulary (often called the *lexicon*) is the following:\n",
    "\n",
    "$V = \\left\\{\\right.$ `a, along, and, as, at, beautiful, branches, bunch, burst, day, fox, fox's, from, gazed, grapes, hanging, he, juice, longingly, mouth, of, one, ready, ripe, seemed, spied, the, them, to, trained, tree, vine, watered, with`$\\left.\\right\\}$\n",
    "\n",
    "Then the document\n",
    "\n",
    "`A Fox one day spied a beautiful bunch of ripe grapes hanging from a vine trained along the branches of a tree`\n",
    "\n",
    "may be represented as the following sparse vector of word counts:\n",
    "\n",
    "$$\\bar V(d) = \\left( 4,1,0,0,0,1,1,1,0,1,1,0,1,0,1,1,0,0,0,0,2,1,0,1,0,0,1,0,0,1,1,1,0,0 \\right)$$\n",
    "\n",
    "or more succinctly as\n",
    "\n",
    "`[(0, 4), (1, 1), (5, 1), (6, 1), (7, 1), (9, 1), (10, 1), (12, 1), (14, 1), (15, 1), (20, 2), (21, 1), (23, 1),`\n",
    "`(26, 1), (29,1), (30, 1), (31, 1)]`\n",
    "\n",
    "along with a dictionary\n",
    "\n",
    "``\n",
    "{\n",
    "    0: a, 1: along, 5: beautiful, 6: branches, 7: bunch, 9: day, 10: fox, 12: from, 14: grapes, 15: hanging, 19: mouth, 20: of, 21: one, 23: ripe, 24: seemed, 25: spied, 26: the, 29:trained, 30: tree, 31: vine, \n",
    "}\n",
    "``\n",
    "\n",
    "Then, a set of documents becomes, in the usual `sklearn` style, a sparse matrix with rows being sparse arrays representing documents and columns representing the features/words in the vocabulary.\n",
    "\n",
    "Notice that this representation loses the relative ordering of the terms in the document. That is \"cat ate rat\" and \"rat ate cat\" are the same. Thus, this representation is also known as the Bag-Of-Words representation.\n",
    "\n",
    "Here is another example, from the book quoted above, although the matrix is transposed here so that documents are columns:\n",
    "\n",
    "![novel terms](terms.png)\n",
    "\n",
    "Such a matrix is also catted a Term-Document Matrix. Here, the terms being indexed could be stemmed before indexing; for instance, `jealous` and `jealousy` after stemming are the same feature. One could also make use of other \"Natural Language Processing\" transformations in constructing the vocabulary. We could use Lemmatization, which reduces words to lemmas: work, working, worked would all reduce to work. We could remove \"stopwords\" from our vocabulary, such as common words like \"the\". We could look for particular parts of speech, such as adjectives. This is often done in Sentiment Analysis. And so on. It all depends on our application.\n",
    "\n",
    "From the book:\n",
    ">The standard way of quantifying the similarity between two documents $d_1$ and $d_2$  is to compute the cosine similarity of their vector representations $\\bar V(d_1)$ and $\\bar V(d_2)$:\n",
    "\n",
    "$$S_{12} = \\frac{\\bar V(d_1) \\cdot \\bar V(d_2)}{|\\bar V(d_1)| \\times |\\bar V(d_2)|}$$\n",
    "\n",
    "![Vector Space Model](vsm.png)\n",
    "\n",
    "\n",
    ">There is a far more compelling reason to represent documents as vectors: we can also view a query as a vector. Consider the query q = jealous gossip. This query turns into the unit vector $\\bar V(q)$ = (0, 0.707, 0.707) on the three coordinates below. \n",
    "\n",
    "![novel terms](terms2.png)\n",
    "\n",
    ">The key idea now: to assign to each document d a score equal to the dot product:\n",
    "\n",
    "$$\\bar V(q) \\cdot \\bar V(d)$$\n",
    "\n",
    "Then we can use this simple Vector Model as a Search engine."
   ]
  },
  {
   "cell_type": "markdown",
   "metadata": {},
   "source": [
    "### In Code"
   ]
  },
  {
   "cell_type": "code",
   "execution_count": 64,
   "metadata": {},
   "outputs": [
    {
     "name": "stdout",
     "output_type": "stream",
     "text": [
      "Original text is\n",
      "Hop on pop\n",
      "Hop off pop\n",
      "Hop Hop hop\n",
      "\n",
      "Transformed text vector is \n",
      "[[1 0 1 1]\n",
      " [1 1 0 1]\n",
      " [3 0 0 0]]\n",
      "\n",
      "Words for each feature:\n",
      "['hop', 'off', 'on', 'pop']\n"
     ]
    }
   ],
   "source": [
    "from sklearn.feature_extraction.text import CountVectorizer\n",
    "\n",
    "text = ['Hop on pop', 'Hop off pop', 'Hop Hop hop']\n",
    "print(\"Original text is\\n{}\".format('\\n'.join(text)))\n",
    "\n",
    "vectorizer = CountVectorizer(min_df=0)\n",
    "\n",
    "# call `fit` to build the vocabulary\n",
    "vectorizer.fit(text)\n",
    "\n",
    "# call `transform` to convert text to a bag of words\n",
    "x = vectorizer.transform(text)\n",
    "\n",
    "# CountVectorizer uses a sparse array to save memory, but it's easier in this assignment to \n",
    "# convert back to a \"normal\" numpy array\n",
    "x = x.toarray()\n",
    "\n",
    "print(\"\")\n",
    "print(\"Transformed text vector is \\n{}\".format(x))\n",
    "\n",
    "# `get_feature_names` tracks which word is associated with each column of the transformed x\n",
    "print(\"\")\n",
    "print(\"Words for each feature:\")\n",
    "print(vectorizer.get_feature_names())\n",
    "\n",
    "# Notice that the bag of words treatment doesn't preserve information about the *order* of words, \n",
    "# just their frequency"
   ]
  },
  {
   "cell_type": "code",
   "execution_count": 65,
   "metadata": {
    "collapsed": true
   },
   "outputs": [],
   "source": [
    "# definition of the function\n",
    "def make_xy(critics, vectorizer=None):\n",
    "    #Your code here    \n",
    "    if vectorizer is None:\n",
    "        vectorizer = CountVectorizer() # vectorizer is initialized as a count vectorizer.take a look later.\n",
    "    X = vectorizer.fit_transform(critics.quote) # number of rows = number of reviews\n",
    "    X = X.tocsc()  # some versions of sklearn return COO format\n",
    "    y = (critics.fresh == 'fresh').values.astype(np.int) # for each row in text 1 or 0 representing fresh or not.\n",
    "    return X, y\n",
    "# calling the func.\n",
    "X, y = make_xy(critics) # when the vectorizer is None."
   ]
  },
  {
   "cell_type": "code",
   "execution_count": 66,
   "metadata": {},
   "outputs": [
    {
     "data": {
      "text/plain": [
       "(<15561x22417 sparse matrix of type '<class 'numpy.int64'>'\n",
       " \twith 272265 stored elements in Compressed Sparse Column format>,\n",
       " scipy.sparse.csc.csc_matrix)"
      ]
     },
     "execution_count": 66,
     "metadata": {},
     "output_type": "execute_result"
    }
   ],
   "source": [
    "X,type(X)"
   ]
  },
  {
   "cell_type": "code",
   "execution_count": 67,
   "metadata": {},
   "outputs": [
    {
     "data": {
      "text/plain": [
       "(array([1, 1, 1, ..., 1, 1, 1]), numpy.ndarray, (15561,))"
      ]
     },
     "execution_count": 67,
     "metadata": {},
     "output_type": "execute_result"
    }
   ],
   "source": [
    "y,type(y),y.shape"
   ]
  },
  {
   "cell_type": "markdown",
   "metadata": {},
   "source": [
    "## Naive Bayes"
   ]
  },
  {
   "cell_type": "markdown",
   "metadata": {},
   "source": [
    "From Bayes' Theorem, we have that\n",
    "\n",
    "$$P(c \\vert f) = \\frac{P(c \\cap f)}{P(f)}$$\n",
    "\n",
    "where $c$ represents a *class* or category, and $f$ represents a feature vector, such as $\\bar V(d)$ as above. **We are computing the probability that a document (or whatever we are classifying) belongs to category *c* given the features in the document.** $P(f)$ is really just a normalization constant, so the literature usually writes Bayes' Theorem in context of Naive Bayes as\n",
    "\n",
    "$$P(c \\vert f) \\propto P(f \\vert c) P(c) $$\n",
    "\n",
    "$P(c)$ is called the *prior* and is simply the probability of seeing class $c$. But what is $P(f \\vert c)$? This is the probability that we see feature set $f$ given that this document is actually in class $c$. This is called the *likelihood* and comes from the data. One of the major assumptions of the Naive Bayes model is that the features are *conditionally independent* given the class. While the presence of a particular discriminative word may uniquely identify the document as being part of class $c$ and thus violate general feature independence, conditional independence means that the presence of that term is independent of all the other words that appear *within that class*. This is a very important distinction. Recall that if two events are independent, then:\n",
    "\n",
    "$$P(A \\cap B) = P(A) \\cdot P(B)$$\n",
    "\n",
    "Thus, conditional independence implies\n",
    "\n",
    "$$P(f \\vert c)  = \\prod_i P(f_i | c) $$\n",
    "\n",
    "where $f_i$ is an individual feature (a word in this example).\n",
    "\n",
    "To make a classification, we then choose the class $c$ such that $P(c \\vert f)$ is maximal.\n",
    "\n",
    "There is a small caveat when computing these probabilities. For [floating point underflow](http://nlp.stanford.edu/IR-book/html/htmledition/naive-bayes-text-classification-1.html) we change the product into a sum by going into log space. This is called the LogSumExp trick. So:\n",
    "\n",
    "$$\\log P(f \\vert c)  = \\sum_i \\log P(f_i \\vert c) $$\n",
    "\n",
    "There is another caveat. What if we see a term that didn't exist in the training data? This means that $P(f_i \\vert c) = 0$ for that term, and thus $P(f \\vert c)  = \\prod_i P(f_i | c) = 0$, which doesn't help us at all. Instead of using zeros, we add a small negligible value called $\\alpha$ to each count. This is called Laplace Smoothing.\n",
    "\n",
    "$$P(f_i \\vert c) = \\frac{N_{ic}+\\alpha}{N_c + \\alpha N_i}$$\n",
    "\n",
    "where $N_{ic}$ is the number of times feature $i$ was seen in class $c$, $N_c$ is the number of times class $c$ was seen and $N_i$ is the number of times feature $i$ was seen globally. $\\alpha$ is sometimes called a regularization parameter."
   ]
  },
  {
   "cell_type": "markdown",
   "metadata": {},
   "source": [
    "### Multinomial Naive Bayes and Other Likelihood Functions\n",
    "\n",
    "Since we are modeling word counts, we are using variation of Naive Bayes called Multinomial Naive Bayes. This is because the likelihood function actually takes the form of the multinomial distribution.\n",
    "\n",
    "$$P(f \\vert c) = \\frac{\\left( \\sum_i f_i \\right)!}{\\prod_i f_i!} \\prod_{f_i} P(f_i \\vert c)^{f_i} \\propto \\prod_{i} P(f_i \\vert c)$$\n",
    "\n",
    "where the nasty term out front is absorbed as a normalization constant such that probabilities sum to 1.\n",
    "\n",
    "There are many other variations of Naive Bayes, all which depend on what type of value $f_i$ takes. If $f_i$ is continuous, we may be able to use *Gaussian Naive Bayes*. First compute the mean and variance for each class $c$. Then the likelihood, $P(f \\vert c)$ is given as follows\n",
    "\n",
    "$$P(f_i = v \\vert c) = \\frac{1}{\\sqrt{2\\pi \\sigma^2_c}} e^{- \\frac{\\left( v - \\mu_c \\right)^2}{2 \\sigma^2_c}}$$"
   ]
  },
  {
   "cell_type": "markdown",
   "metadata": {},
   "source": [
    "<div class=\"span5 alert alert-info\">\n",
    "<h3>Exercise Set II</h3>\n",
    "\n",
    "<p><b>Exercise:</b> Implement a simple Naive Bayes classifier:</p>\n",
    "\n",
    "<ol>\n",
    "<li> split the data set into a training and test set\n",
    "<li> Use `scikit-learn`'s `MultinomialNB()` classifier with default parameters.\n",
    "<li> train the classifier over the training set and test on the test set\n",
    "<li> print the accuracy scores for both the training and the test sets\n",
    "</ol>\n",
    "\n",
    "What do you notice? Is this a good classifier? If not, why not?\n",
    "</div>"
   ]
  },
  {
   "cell_type": "code",
   "execution_count": 68,
   "metadata": {},
   "outputs": [
    {
     "data": {
      "text/plain": [
       "MultinomialNB(alpha=1.0, class_prior=None, fit_prior=True)"
      ]
     },
     "execution_count": 68,
     "metadata": {},
     "output_type": "execute_result"
    }
   ],
   "source": [
    "from sklearn.model_selection import train_test_split\n",
    "X_train, X_test,y_train,y_test = train_test_split(X,y,test_size = 0.3,random_state=0)\n",
    "\n",
    "from sklearn.naive_bayes import MultinomialNB\n",
    "NB = MultinomialNB()\n",
    "NB.fit(X_train, y_train)\n",
    "\n",
    "# go to check the X_train and y_train shape, issue here is investigate "
   ]
  },
  {
   "cell_type": "code",
   "execution_count": 69,
   "metadata": {},
   "outputs": [
    {
     "data": {
      "text/plain": [
       "0.92122658832170401"
      ]
     },
     "execution_count": 69,
     "metadata": {},
     "output_type": "execute_result"
    }
   ],
   "source": [
    "y_pred=NB.predict(X_test)\n",
    "NB.score(X_train,y_train)\n"
   ]
  },
  {
   "cell_type": "code",
   "execution_count": 70,
   "metadata": {},
   "outputs": [
    {
     "data": {
      "text/plain": [
       "0.76718783465410156"
      ]
     },
     "execution_count": 70,
     "metadata": {},
     "output_type": "execute_result"
    }
   ],
   "source": [
    "NB.score(X_test,y_test)"
   ]
  },
  {
   "cell_type": "markdown",
   "metadata": {},
   "source": [
    "### Picking Hyperparameters for Naive Bayes and Text Maintenance"
   ]
  },
  {
   "cell_type": "markdown",
   "metadata": {},
   "source": [
    "We need to know what value to use for $\\alpha$, and we also need to know which words to include in the vocabulary. As mentioned earlier, some words are obvious stopwords. Other words appear so infrequently that they serve as noise, and other words in addition to stopwords appear so frequently that they may also serve as noise."
   ]
  },
  {
   "cell_type": "markdown",
   "metadata": {},
   "source": [
    "First, let's find an appropriate value for `min_df` for the `CountVectorizer`. `min_df` can be either an integer or a float/decimal. If it is an integer, `min_df` represents the minimum number of documents a word must appear in for it to be included in the vocabulary. If it is a float, it represents the minimum *percentage* of documents a word must appear in to be included in the vocabulary. From the documentation:"
   ]
  },
  {
   "cell_type": "markdown",
   "metadata": {},
   "source": [
    ">min_df: When building the vocabulary ignore terms that have a document frequency strictly lower than the given threshold. This value is also called cut-off in the literature. If float, the parameter represents a proportion of documents, integer absolute counts. This parameter is ignored if vocabulary is not None."
   ]
  },
  {
   "cell_type": "markdown",
   "metadata": {},
   "source": [
    "<div class=\"span5 alert alert-info\">\n",
    "<h3>Exercise Set III</h3>\n",
    "\n",
    "<p><b>Exercise:</b> Construct the cumulative distribution of document frequencies (df). The $x$-axis is a document count $x_i$ and the $y$-axis is the percentage of words that appear less than $x_i$ times. For example, at $x=5$, plot a point representing the percentage or number of words that appear in 5 or fewer documents.</p>\n",
    "\n",
    "<p><b>Exercise:</b> Look for the point at which the curve begins climbing steeply. This may be a good value for `min_df`. If we were interested in also picking `max_df`, we would likely pick the value where the curve starts to plateau. What value did you choose?</p>\n",
    "</div>"
   ]
  },
  {
   "cell_type": "code",
   "execution_count": 71,
   "metadata": {},
   "outputs": [
    {
     "data": {
      "text/plain": [
       "Text(0,0.5,'percentage of words')"
      ]
     },
     "execution_count": 71,
     "metadata": {},
     "output_type": "execute_result"
    },
    {
     "data": {
      "image/png": "[encoded data removed]",
      "text/plain": [
       "<matplotlib.figure.Figure at 0x1a148890f0>"
      ]
     },
     "metadata": {},
     "output_type": "display_data"
    }
   ],
   "source": [
    "# Your turn.\n",
    "import matplotlib.pyplot as plt\n",
    "from sklearn.feature_extraction.text import CountVectorizer\n",
    "\n",
    "vectorizer=CountVectorizer()\n",
    "# call `fit` to build the vocabulary\n",
    "data=critics.quote\n",
    "vectorizer.fit(data)\n",
    "# call `transform` to convert text to a bag of words\n",
    "x = vectorizer.transform(data)\n",
    "z=x.toarray()\n",
    "c=vectorizer.get_feature_names()\n",
    "mydata=pd.DataFrame(z,columns=c) # columns numbers = feature numbers\n",
    "xx=(mydata>0).sum(0)\n",
    "\n",
    "plt.hist(xx, bins=range(1000), histtype='step', color='b', cumulative=True, linewidth=3, normed=1)\n",
    "plt.xlim(-1,100) \n",
    "plt.xlabel('document count')\n",
    "plt.ylabel ('percentage of words')"
   ]
  },
  {
   "cell_type": "code",
   "execution_count": 104,
   "metadata": {},
   "outputs": [
    {
     "data": {
      "text/plain": [
       "(array([ 0.        ,  0.42815668,  0.58399214,  0.66943588,  0.7254902 ,\n",
       "         0.76555451,  0.79378266,  0.81790165,  0.83621421,  0.85180222,\n",
       "         0.86493367,  0.87507258,  0.88476484,  0.89284917,  0.9007995 ,\n",
       "         0.90656126,  0.91151905,  0.9158962 ,  0.9198267 ,  0.92398053,\n",
       "         0.92764304,  0.93161821,  0.93452142,  0.93706731,  0.93947921,\n",
       "         0.94139979,  0.94381169,  0.94564295,  0.94809951,  0.95037742,\n",
       "         0.95198535,  0.95345929,  0.95475457,  0.95627317,  0.95783644,\n",
       "         0.95904239,  0.96011434,  0.96100764,  0.96190093,  0.96283889,\n",
       "         0.96382152,  0.96480414,  0.96569744,  0.96668007,  0.9675287 ,\n",
       "         0.968288  ,  0.9690473 ,  0.96985127,  0.97034258,  0.97101255,\n",
       "         0.97154853,  0.97212917,  0.97270981,  0.97333512,  0.9737371 ,\n",
       "         0.97431775,  0.97480906,  0.9753897 ,  0.97597034,  0.97646166,\n",
       "         0.97699763,  0.97744428,  0.97789093,  0.97842691,  0.97873956,\n",
       "         0.97891822,  0.97954353,  0.97999017,  0.98016883,  0.98034749,\n",
       "         0.98052615,  0.98061548,  0.98092813,  0.98141945,  0.98159811,\n",
       "         0.98182143,  0.98235741,  0.9826254 ,  0.98267006,  0.98289339,\n",
       "         0.9833847 ,  0.98356336,  0.98392068,  0.98418866,  0.98427799,\n",
       "         0.98459065,  0.98485864,  0.98494797,  0.98512662,  0.98526062,\n",
       "         0.98539461,  0.98543928,  0.98561794,  0.98601992,  0.98633257,\n",
       "         0.9864219 ,  0.9865559 ,  0.98673456,  0.98682389,  0.98700255,\n",
       "         0.98718121,  0.98727053,  0.98744919,  0.98753852,  0.98767252,\n",
       "         0.98780651,  0.98802984,  0.9882085 ,  0.98829782,  0.98834249,\n",
       "         0.98852115,  0.98869981,  0.98874447,  0.9889678 ,  0.9889678 ,\n",
       "         0.98928045,  0.98950377,  0.98950377,  0.98950377,  0.98954844,\n",
       "         0.98963777,  0.9897271 ,  0.9897271 ,  0.98981643,  0.98981643,\n",
       "         0.98981643,  0.98995042,  0.98999509,  0.99008442,  0.99017375,\n",
       "         0.99017375,  0.99026308,  0.99035241,  0.99044173,  0.9904864 ,\n",
       "         0.9904864 ,  0.9904864 ,  0.99062039,  0.99075439,  0.99084372,\n",
       "         0.99093305,  0.99115637,  0.99115637,  0.99120104,  0.9913797 ,\n",
       "         0.99142436,  0.99160302,  0.99160302,  0.99160302,  0.99169235,\n",
       "         0.99169235,  0.99169235,  0.99169235,  0.99173701,  0.99204967,\n",
       "         0.99218366,  0.99227299,  0.99227299,  0.99231766,  0.99231766,\n",
       "         0.99240699,  0.99240699,  0.99245165,  0.99245165,  0.99245165,\n",
       "         0.99254098,  0.99263031,  0.99263031,  0.99263031,  0.99271964,\n",
       "         0.9927643 ,  0.99280897,  0.99294296,  0.99294296,  0.99303229,\n",
       "         0.99312162,  0.99316629,  0.99325562,  0.99325562,  0.99325562,\n",
       "         0.99325562,  0.99325562,  0.99330028,  0.99334495,  0.99334495,\n",
       "         0.99334495,  0.99338961,  0.99347894,  0.99347894,  0.99347894,\n",
       "         0.99347894,  0.99352361,  0.99352361,  0.99356827,  0.9936576 ,\n",
       "         0.99370226,  0.99374693,  0.99379159,  0.99392559,  0.99405958,\n",
       "         0.99405958,  0.99410425,  0.99419358,  0.99419358,  0.99419358,\n",
       "         0.99419358,  0.99419358,  0.99423824,  0.99428291,  0.99428291,\n",
       "         0.99437224,  0.99446157,  0.99450623,  0.99450623,  0.9945509 ,\n",
       "         0.99459556,  0.99464023,  0.99464023,  0.99472955,  0.99472955,\n",
       "         0.99481888,  0.99486355,  0.99486355,  0.99490821,  0.99495288,\n",
       "         0.99495288,  0.99495288,  0.99499754,  0.99513154,  0.99513154,\n",
       "         0.9951762 ,  0.99522087,  0.99526553,  0.99526553,  0.9953102 ,\n",
       "         0.99535486,  0.99535486,  0.99539953,  0.99544419,  0.99544419,\n",
       "         0.99544419,  0.99548886,  0.99553352,  0.99557819,  0.99557819,\n",
       "         0.99562285,  0.99566752,  0.99566752,  0.99571218,  0.99584617,\n",
       "         0.9959355 ,  0.99598017,  0.99602483,  0.9960695 ,  0.9960695 ,\n",
       "         0.99611416,  0.99615883,  0.99620349,  0.99624816,  0.99629282,\n",
       "         0.99629282,  0.99629282,  0.99629282,  0.99633749,  0.99633749,\n",
       "         0.99638215,  0.99638215,  0.99638215,  0.99638215,  0.99647148,\n",
       "         0.99647148,  0.99651615,  0.99660548,  0.99660548,  0.99669481,\n",
       "         0.99673947,  0.99673947,  0.99678414,  0.9968288 ,  0.9968288 ,\n",
       "         0.99687346,  0.99687346,  0.99687346,  0.99691813,  0.99691813,\n",
       "         0.99691813,  0.99696279,  0.99696279,  0.99700746,  0.99700746,\n",
       "         0.99700746,  0.99700746,  0.99700746,  0.99700746,  0.99700746,\n",
       "         0.99705212,  0.99705212,  0.99705212,  0.99705212,  0.99709679,\n",
       "         0.99709679,  0.99714145,  0.99714145,  0.99714145,  0.99714145,\n",
       "         0.99714145,  0.99714145,  0.99714145,  0.99714145,  0.99714145,\n",
       "         0.99718612,  0.99718612,  0.99723078,  0.99723078,  0.99723078,\n",
       "         0.99727545,  0.99732011,  0.99732011,  0.99732011,  0.99732011,\n",
       "         0.99736478,  0.99736478,  0.99736478,  0.99736478,  0.99736478,\n",
       "         0.99736478,  0.99736478,  0.99740944,  0.99740944,  0.99745411,\n",
       "         0.99749877,  0.99749877,  0.99749877,  0.99749877,  0.99749877,\n",
       "         0.99754344,  0.99754344,  0.99754344,  0.99754344,  0.99754344,\n",
       "         0.99754344,  0.99754344,  0.9975881 ,  0.9975881 ,  0.9975881 ,\n",
       "         0.9975881 ,  0.9975881 ,  0.9975881 ,  0.9975881 ,  0.99763277,\n",
       "         0.99763277,  0.99763277,  0.99763277,  0.99767743,  0.99767743,\n",
       "         0.99767743,  0.99767743,  0.99767743,  0.99767743,  0.99767743,\n",
       "         0.9977221 ,  0.99776676,  0.99781143,  0.99781143,  0.99781143,\n",
       "         0.99781143,  0.99781143,  0.99781143,  0.99781143,  0.99781143,\n",
       "         0.99781143,  0.99781143,  0.99781143,  0.99785609,  0.99790075,\n",
       "         0.99790075,  0.99790075,  0.99790075,  0.99790075,  0.99790075,\n",
       "         0.99790075,  0.99790075,  0.99790075,  0.99790075,  0.99794542,\n",
       "         0.99799008,  0.99803475,  0.99803475,  0.99807941,  0.99807941,\n",
       "         0.99807941,  0.99807941,  0.99807941,  0.99807941,  0.99807941,\n",
       "         0.99807941,  0.99807941,  0.99807941,  0.99812408,  0.99812408,\n",
       "         0.99816874,  0.99821341,  0.99821341,  0.99821341,  0.99821341,\n",
       "         0.99821341,  0.99821341,  0.99821341,  0.99825807,  0.99825807,\n",
       "         0.99825807,  0.99825807,  0.99830274,  0.99830274,  0.9983474 ,\n",
       "         0.9983474 ,  0.9983474 ,  0.9983474 ,  0.9983474 ,  0.9983474 ,\n",
       "         0.9983474 ,  0.9983474 ,  0.9983474 ,  0.99839207,  0.99839207,\n",
       "         0.99843673,  0.99843673,  0.9984814 ,  0.9984814 ,  0.9984814 ,\n",
       "         0.9984814 ,  0.99852606,  0.99852606,  0.99852606,  0.99852606,\n",
       "         0.99852606,  0.99852606,  0.99852606,  0.99852606,  0.99852606,\n",
       "         0.99852606,  0.99852606,  0.99852606,  0.99852606,  0.99852606,\n",
       "         0.99857073,  0.99857073,  0.99857073,  0.99857073,  0.99857073,\n",
       "         0.99857073,  0.99857073,  0.99857073,  0.99857073,  0.99857073,\n",
       "         0.99857073,  0.99857073,  0.99857073,  0.99857073,  0.99857073,\n",
       "         0.99861539,  0.99866006,  0.99866006,  0.99866006,  0.99866006,\n",
       "         0.99866006,  0.99866006,  0.99866006,  0.99866006,  0.99870472,\n",
       "         0.99870472,  0.99870472,  0.99870472,  0.99870472,  0.99870472,\n",
       "         0.99870472,  0.99870472,  0.99870472,  0.99870472,  0.99870472,\n",
       "         0.99870472,  0.99870472,  0.99870472,  0.99870472,  0.99874939,\n",
       "         0.99874939,  0.99874939,  0.99874939,  0.99874939,  0.99874939,\n",
       "         0.99879405,  0.99879405,  0.99879405,  0.99879405,  0.99879405,\n",
       "         0.99879405,  0.99879405,  0.99879405,  0.99879405,  0.99879405,\n",
       "         0.99879405,  0.99883872,  0.99883872,  0.99883872,  0.99883872,\n",
       "         0.99883872,  0.99883872,  0.99883872,  0.99883872,  0.99883872,\n",
       "         0.99883872,  0.99883872,  0.99883872,  0.99883872,  0.99883872,\n",
       "         0.99883872,  0.99883872,  0.99888338,  0.99888338,  0.99888338,\n",
       "         0.99888338,  0.99888338,  0.99888338,  0.99888338,  0.99888338,\n",
       "         0.99892805,  0.99892805,  0.99892805,  0.99892805,  0.99897271,\n",
       "         0.99897271,  0.99897271,  0.99897271,  0.99897271,  0.99897271,\n",
       "         0.99897271,  0.99897271,  0.99897271,  0.99897271,  0.99897271,\n",
       "         0.99897271,  0.99897271,  0.99897271,  0.99897271,  0.99897271,\n",
       "         0.99897271,  0.99897271,  0.99897271,  0.99897271,  0.99897271,\n",
       "         0.99897271,  0.99897271,  0.99897271,  0.99897271,  0.99897271,\n",
       "         0.99897271,  0.99897271,  0.99897271,  0.99897271,  0.99897271,\n",
       "         0.99897271,  0.99897271,  0.99897271,  0.99901737,  0.99901737,\n",
       "         0.99901737,  0.99901737,  0.99901737,  0.99901737,  0.99901737,\n",
       "         0.99901737,  0.99901737,  0.99901737,  0.99901737,  0.99901737,\n",
       "         0.99901737,  0.99901737,  0.99901737,  0.99901737,  0.99906204,\n",
       "         0.99906204,  0.99906204,  0.9991067 ,  0.9991067 ,  0.9991067 ,\n",
       "         0.9991067 ,  0.9991067 ,  0.9991067 ,  0.9991067 ,  0.9991067 ,\n",
       "         0.9991067 ,  0.9991067 ,  0.9991067 ,  0.9991067 ,  0.99915137,\n",
       "         0.99915137,  0.99915137,  0.99915137,  0.99915137,  0.99915137,\n",
       "         0.99915137,  0.99919603,  0.99919603,  0.99919603,  0.99919603,\n",
       "         0.99919603,  0.99919603,  0.99919603,  0.99919603,  0.99919603,\n",
       "         0.99919603,  0.99919603,  0.99919603,  0.99919603,  0.99919603,\n",
       "         0.99919603,  0.99919603,  0.99919603,  0.99919603,  0.99919603,\n",
       "         0.99919603,  0.99919603,  0.99919603,  0.99919603,  0.99919603,\n",
       "         0.99919603,  0.99919603,  0.99919603,  0.9992407 ,  0.9992407 ,\n",
       "         0.9992407 ,  0.9992407 ,  0.9992407 ,  0.9992407 ,  0.9992407 ,\n",
       "         0.9992407 ,  0.9992407 ,  0.9992407 ,  0.9992407 ,  0.9992407 ,\n",
       "         0.9992407 ,  0.9992407 ,  0.9992407 ,  0.9992407 ,  0.9992407 ,\n",
       "         0.99928536,  0.99933003,  0.99937469,  0.99937469,  0.99937469,\n",
       "         0.99937469,  0.99937469,  0.99937469,  0.99937469,  0.99941936,\n",
       "         0.99946402,  0.99946402,  0.99946402,  0.99946402,  0.99946402,\n",
       "         0.99946402,  0.99946402,  0.99946402,  0.99946402,  0.99946402,\n",
       "         0.99946402,  0.99946402,  0.99946402,  0.99946402,  0.99946402,\n",
       "         0.99946402,  0.99946402,  0.99946402,  0.99946402,  0.99950869,\n",
       "         0.99950869,  0.99950869,  0.99950869,  0.99955335,  0.99955335,\n",
       "         0.99955335,  0.99955335,  0.99955335,  0.99955335,  0.99955335,\n",
       "         0.99955335,  0.99955335,  0.99955335,  0.99955335,  0.99955335,\n",
       "         0.99955335,  0.99955335,  0.99955335,  0.99955335,  0.99959802,\n",
       "         0.99959802,  0.99959802,  0.99959802,  0.99959802,  0.99959802,\n",
       "         0.99959802,  0.99959802,  0.99959802,  0.99959802,  0.99959802,\n",
       "         0.99959802,  0.99959802,  0.99959802,  0.99959802,  0.99959802,\n",
       "         0.99959802,  0.99959802,  0.99959802,  0.99959802,  0.99959802,\n",
       "         0.99959802,  0.99959802,  0.99959802,  0.99959802,  0.99959802,\n",
       "         0.99959802,  0.99959802,  0.99959802,  0.99959802,  0.99959802,\n",
       "         0.99959802,  0.99959802,  0.99959802,  0.99959802,  0.99959802,\n",
       "         0.99959802,  0.99959802,  0.99959802,  0.99959802,  0.99959802,\n",
       "         0.99959802,  0.99959802,  0.99959802,  0.99959802,  0.99959802,\n",
       "         0.99959802,  0.99959802,  0.99959802,  0.99959802,  0.99959802,\n",
       "         0.99959802,  0.99959802,  0.99959802,  0.99959802,  0.99959802,\n",
       "         0.99959802,  0.99959802,  0.99964268,  0.99964268,  0.99964268,\n",
       "         0.99964268,  0.99964268,  0.99964268,  0.99964268,  0.99964268,\n",
       "         0.99964268,  0.99964268,  0.99964268,  0.99964268,  0.99964268,\n",
       "         0.99964268,  0.99964268,  0.99964268,  0.99964268,  0.99964268,\n",
       "         0.99964268,  0.99964268,  0.99964268,  0.99964268,  0.99968735,\n",
       "         0.99968735,  0.99968735,  0.99968735,  0.99968735,  0.99968735,\n",
       "         0.99968735,  0.99968735,  0.99968735,  0.99968735,  0.99968735,\n",
       "         0.99973201,  0.99973201,  0.99973201,  0.99973201,  0.99973201,\n",
       "         0.99973201,  0.99973201,  0.99973201,  0.99973201,  0.99973201,\n",
       "         0.99973201,  0.99973201,  0.99973201,  0.99973201,  0.99973201,\n",
       "         0.99973201,  0.99973201,  0.99973201,  0.99973201,  0.99973201,\n",
       "         0.99973201,  0.99973201,  0.99973201,  0.99973201,  0.99973201,\n",
       "         0.99973201,  0.99973201,  0.99973201,  0.99973201,  0.99973201,\n",
       "         0.99973201,  0.99973201,  0.99973201,  0.99973201,  0.99973201,\n",
       "         0.99973201,  0.99973201,  0.99973201,  0.99973201,  0.99977668,\n",
       "         0.99977668,  0.99977668,  0.99977668,  0.99977668,  0.99977668,\n",
       "         0.99977668,  0.99977668,  0.99977668,  0.99977668,  0.99977668,\n",
       "         0.99977668,  0.99977668,  0.99977668,  0.99977668,  0.99982134,\n",
       "         0.99982134,  0.99982134,  0.99982134,  0.99982134,  0.99982134,\n",
       "         0.99982134,  0.99982134,  0.99982134,  0.99982134,  0.99982134,\n",
       "         0.99982134,  0.99982134,  0.99982134,  0.99982134,  0.99982134,\n",
       "         0.99982134,  0.99982134,  0.99982134,  0.99982134,  0.99982134,\n",
       "         0.99982134,  0.99982134,  0.99982134,  0.99982134,  0.99982134,\n",
       "         0.99982134,  0.99982134,  0.99982134,  0.99982134,  0.99982134,\n",
       "         0.99982134,  0.99982134,  0.99982134,  0.99982134,  0.99982134,\n",
       "         0.99982134,  0.99982134,  0.99982134,  0.99982134,  0.99982134,\n",
       "         0.99982134,  0.99982134,  0.99982134,  0.99982134,  0.99982134,\n",
       "         0.99982134,  0.99982134,  0.99982134,  0.99982134,  0.99982134,\n",
       "         0.99982134,  0.99982134,  0.99982134,  0.99982134,  0.99982134,\n",
       "         0.99982134,  0.99982134,  0.99982134,  0.99982134,  0.99982134,\n",
       "         0.99982134,  0.99982134,  0.99982134,  0.99982134,  0.99982134,\n",
       "         0.99982134,  0.99982134,  0.99982134,  0.99982134,  0.99982134,\n",
       "         0.99982134,  0.99982134,  0.99982134,  0.99982134,  0.99982134,\n",
       "         0.99982134,  0.99982134,  0.99982134,  0.99982134,  0.99982134,\n",
       "         0.99982134,  0.99982134,  0.99982134,  0.99982134,  0.99982134,\n",
       "         0.99982134,  0.99982134,  0.99982134,  0.99982134,  0.99982134,\n",
       "         0.99982134,  0.99982134,  0.99982134,  0.99982134,  0.99982134,\n",
       "         0.99982134,  0.99982134,  0.99982134,  0.99982134,  0.99982134,\n",
       "         0.99982134,  0.99982134,  0.99982134,  0.99982134,  0.99982134,\n",
       "         0.99986601,  0.99986601,  0.99986601,  0.99991067,  0.99991067,\n",
       "         0.99991067,  0.99995534,  0.99995534,  0.99995534,  0.99995534,\n",
       "         0.99995534,  0.99995534,  0.99995534,  0.99995534,  0.99995534,\n",
       "         0.99995534,  0.99995534,  0.99995534,  0.99995534,  0.99995534,\n",
       "         0.99995534,  0.99995534,  0.99995534,  0.99995534,  0.99995534,\n",
       "         0.99995534,  0.99995534,  0.99995534,  1.        ,  1.        ,\n",
       "         1.        ,  1.        ,  1.        ,  1.        ,  1.        ,\n",
       "         1.        ,  1.        ,  1.        ,  1.        ,  1.        ,\n",
       "         1.        ,  1.        ,  1.        ,  1.        ,  1.        ,\n",
       "         1.        ,  1.        ,  1.        ,  1.        ,  1.        ,\n",
       "         1.        ,  1.        ,  1.        ,  1.        ]),\n",
       " array([  0,   1,   2,   3,   4,   5,   6,   7,   8,   9,  10,  11,  12,\n",
       "         13,  14,  15,  16,  17,  18,  19,  20,  21,  22,  23,  24,  25,\n",
       "         26,  27,  28,  29,  30,  31,  32,  33,  34,  35,  36,  37,  38,\n",
       "         39,  40,  41,  42,  43,  44,  45,  46,  47,  48,  49,  50,  51,\n",
       "         52,  53,  54,  55,  56,  57,  58,  59,  60,  61,  62,  63,  64,\n",
       "         65,  66,  67,  68,  69,  70,  71,  72,  73,  74,  75,  76,  77,\n",
       "         78,  79,  80,  81,  82,  83,  84,  85,  86,  87,  88,  89,  90,\n",
       "         91,  92,  93,  94,  95,  96,  97,  98,  99, 100, 101, 102, 103,\n",
       "        104, 105, 106, 107, 108, 109, 110, 111, 112, 113, 114, 115, 116,\n",
       "        117, 118, 119, 120, 121, 122, 123, 124, 125, 126, 127, 128, 129,\n",
       "        130, 131, 132, 133, 134, 135, 136, 137, 138, 139, 140, 141, 142,\n",
       "        143, 144, 145, 146, 147, 148, 149, 150, 151, 152, 153, 154, 155,\n",
       "        156, 157, 158, 159, 160, 161, 162, 163, 164, 165, 166, 167, 168,\n",
       "        169, 170, 171, 172, 173, 174, 175, 176, 177, 178, 179, 180, 181,\n",
       "        182, 183, 184, 185, 186, 187, 188, 189, 190, 191, 192, 193, 194,\n",
       "        195, 196, 197, 198, 199, 200, 201, 202, 203, 204, 205, 206, 207,\n",
       "        208, 209, 210, 211, 212, 213, 214, 215, 216, 217, 218, 219, 220,\n",
       "        221, 222, 223, 224, 225, 226, 227, 228, 229, 230, 231, 232, 233,\n",
       "        234, 235, 236, 237, 238, 239, 240, 241, 242, 243, 244, 245, 246,\n",
       "        247, 248, 249, 250, 251, 252, 253, 254, 255, 256, 257, 258, 259,\n",
       "        260, 261, 262, 263, 264, 265, 266, 267, 268, 269, 270, 271, 272,\n",
       "        273, 274, 275, 276, 277, 278, 279, 280, 281, 282, 283, 284, 285,\n",
       "        286, 287, 288, 289, 290, 291, 292, 293, 294, 295, 296, 297, 298,\n",
       "        299, 300, 301, 302, 303, 304, 305, 306, 307, 308, 309, 310, 311,\n",
       "        312, 313, 314, 315, 316, 317, 318, 319, 320, 321, 322, 323, 324,\n",
       "        325, 326, 327, 328, 329, 330, 331, 332, 333, 334, 335, 336, 337,\n",
       "        338, 339, 340, 341, 342, 343, 344, 345, 346, 347, 348, 349, 350,\n",
       "        351, 352, 353, 354, 355, 356, 357, 358, 359, 360, 361, 362, 363,\n",
       "        364, 365, 366, 367, 368, 369, 370, 371, 372, 373, 374, 375, 376,\n",
       "        377, 378, 379, 380, 381, 382, 383, 384, 385, 386, 387, 388, 389,\n",
       "        390, 391, 392, 393, 394, 395, 396, 397, 398, 399, 400, 401, 402,\n",
       "        403, 404, 405, 406, 407, 408, 409, 410, 411, 412, 413, 414, 415,\n",
       "        416, 417, 418, 419, 420, 421, 422, 423, 424, 425, 426, 427, 428,\n",
       "        429, 430, 431, 432, 433, 434, 435, 436, 437, 438, 439, 440, 441,\n",
       "        442, 443, 444, 445, 446, 447, 448, 449, 450, 451, 452, 453, 454,\n",
       "        455, 456, 457, 458, 459, 460, 461, 462, 463, 464, 465, 466, 467,\n",
       "        468, 469, 470, 471, 472, 473, 474, 475, 476, 477, 478, 479, 480,\n",
       "        481, 482, 483, 484, 485, 486, 487, 488, 489, 490, 491, 492, 493,\n",
       "        494, 495, 496, 497, 498, 499, 500, 501, 502, 503, 504, 505, 506,\n",
       "        507, 508, 509, 510, 511, 512, 513, 514, 515, 516, 517, 518, 519,\n",
       "        520, 521, 522, 523, 524, 525, 526, 527, 528, 529, 530, 531, 532,\n",
       "        533, 534, 535, 536, 537, 538, 539, 540, 541, 542, 543, 544, 545,\n",
       "        546, 547, 548, 549, 550, 551, 552, 553, 554, 555, 556, 557, 558,\n",
       "        559, 560, 561, 562, 563, 564, 565, 566, 567, 568, 569, 570, 571,\n",
       "        572, 573, 574, 575, 576, 577, 578, 579, 580, 581, 582, 583, 584,\n",
       "        585, 586, 587, 588, 589, 590, 591, 592, 593, 594, 595, 596, 597,\n",
       "        598, 599, 600, 601, 602, 603, 604, 605, 606, 607, 608, 609, 610,\n",
       "        611, 612, 613, 614, 615, 616, 617, 618, 619, 620, 621, 622, 623,\n",
       "        624, 625, 626, 627, 628, 629, 630, 631, 632, 633, 634, 635, 636,\n",
       "        637, 638, 639, 640, 641, 642, 643, 644, 645, 646, 647, 648, 649,\n",
       "        650, 651, 652, 653, 654, 655, 656, 657, 658, 659, 660, 661, 662,\n",
       "        663, 664, 665, 666, 667, 668, 669, 670, 671, 672, 673, 674, 675,\n",
       "        676, 677, 678, 679, 680, 681, 682, 683, 684, 685, 686, 687, 688,\n",
       "        689, 690, 691, 692, 693, 694, 695, 696, 697, 698, 699, 700, 701,\n",
       "        702, 703, 704, 705, 706, 707, 708, 709, 710, 711, 712, 713, 714,\n",
       "        715, 716, 717, 718, 719, 720, 721, 722, 723, 724, 725, 726, 727,\n",
       "        728, 729, 730, 731, 732, 733, 734, 735, 736, 737, 738, 739, 740,\n",
       "        741, 742, 743, 744, 745, 746, 747, 748, 749, 750, 751, 752, 753,\n",
       "        754, 755, 756, 757, 758, 759, 760, 761, 762, 763, 764, 765, 766,\n",
       "        767, 768, 769, 770, 771, 772, 773, 774, 775, 776, 777, 778, 779,\n",
       "        780, 781, 782, 783, 784, 785, 786, 787, 788, 789, 790, 791, 792,\n",
       "        793, 794, 795, 796, 797, 798, 799, 800, 801, 802, 803, 804, 805,\n",
       "        806, 807, 808, 809, 810, 811, 812, 813, 814, 815, 816, 817, 818,\n",
       "        819, 820, 821, 822, 823, 824, 825, 826, 827, 828, 829, 830, 831,\n",
       "        832, 833, 834, 835, 836, 837, 838, 839, 840, 841, 842, 843, 844,\n",
       "        845, 846, 847, 848, 849, 850, 851, 852, 853, 854, 855, 856, 857,\n",
       "        858, 859, 860, 861, 862, 863, 864, 865, 866, 867, 868, 869, 870,\n",
       "        871, 872, 873, 874, 875, 876, 877, 878, 879, 880, 881, 882, 883,\n",
       "        884, 885, 886, 887, 888, 889, 890, 891, 892, 893, 894, 895, 896,\n",
       "        897, 898, 899, 900, 901, 902, 903, 904, 905, 906, 907, 908, 909,\n",
       "        910, 911, 912, 913, 914, 915, 916, 917, 918, 919, 920, 921, 922,\n",
       "        923, 924, 925, 926, 927, 928, 929, 930, 931, 932, 933, 934, 935,\n",
       "        936, 937, 938, 939, 940, 941, 942, 943, 944, 945, 946, 947, 948,\n",
       "        949, 950, 951, 952, 953, 954, 955, 956, 957, 958, 959, 960, 961,\n",
       "        962, 963, 964, 965, 966, 967, 968, 969, 970, 971, 972, 973, 974,\n",
       "        975, 976, 977, 978, 979, 980, 981, 982, 983, 984, 985, 986, 987,\n",
       "        988, 989, 990, 991, 992, 993, 994, 995, 996, 997, 998, 999]),\n",
       " <a list of 1 Patch objects>)"
      ]
     },
     "execution_count": 104,
     "metadata": {},
     "output_type": "execute_result"
    },
    {
     "data": {
      "image/png": "[encoded data removed]",
      "text/plain": [
       "<matplotlib.figure.Figure at 0x1a1fe93dd8>"
      ]
     },
     "metadata": {},
     "output_type": "display_data"
    }
   ],
   "source": [
    "plt.hist(xx, bins=range(1000), histtype='step', color='b', cumulative=True, linewidth=3,normed=1)\n",
    "\n"
   ]
  },
  {
   "cell_type": "code",
   "execution_count": 72,
   "metadata": {},
   "outputs": [
    {
     "data": {
      "text/html": [
       "<div>\n",
       "<style>\n",
       "    .dataframe thead tr:only-child th {\n",
       "        text-align: right;\n",
       "    }\n",
       "\n",
       "    .dataframe thead th {\n",
       "        text-align: left;\n",
       "    }\n",
       "\n",
       "    .dataframe tbody tr th {\n",
       "        vertical-align: top;\n",
       "    }\n",
       "</style>\n",
       "<table border=\"1\" class=\"dataframe\">\n",
       "  <thead>\n",
       "    <tr style=\"text-align: right;\">\n",
       "      <th></th>\n",
       "      <th>000</th>\n",
       "      <th>0014</th>\n",
       "      <th>007</th>\n",
       "      <th>044</th>\n",
       "      <th>07</th>\n",
       "      <th>10</th>\n",
       "      <th>100</th>\n",
       "      <th>101</th>\n",
       "      <th>102</th>\n",
       "      <th>104</th>\n",
       "      <th>105</th>\n",
       "      <th>108</th>\n",
       "      <th>10th</th>\n",
       "      <th>11</th>\n",
       "      <th>110</th>\n",
       "      <th>112</th>\n",
       "      <th>1138</th>\n",
       "      <th>114</th>\n",
       "      <th>118</th>\n",
       "      <th>11th</th>\n",
       "      <th>12</th>\n",
       "      <th>124</th>\n",
       "      <th>125</th>\n",
       "      <th>128</th>\n",
       "      <th>13</th>\n",
       "      <th>130</th>\n",
       "      <th>131</th>\n",
       "      <th>132</th>\n",
       "      <th>133</th>\n",
       "      <th>134</th>\n",
       "      <th>136</th>\n",
       "      <th>137</th>\n",
       "      <th>13th</th>\n",
       "      <th>14</th>\n",
       "      <th>141</th>\n",
       "      <th>145</th>\n",
       "      <th>15</th>\n",
       "      <th>153</th>\n",
       "      <th>15th</th>\n",
       "      <th>16</th>\n",
       "      <th>160</th>\n",
       "      <th>161</th>\n",
       "      <th>1660s</th>\n",
       "      <th>16mm</th>\n",
       "      <th>16th</th>\n",
       "      <th>17</th>\n",
       "      <th>17th</th>\n",
       "      <th>18</th>\n",
       "      <th>180</th>\n",
       "      <th>185</th>\n",
       "      <th>...</th>\n",
       "      <th>zellweger</th>\n",
       "      <th>zemeckis</th>\n",
       "      <th>zen</th>\n",
       "      <th>zero</th>\n",
       "      <th>zeroes</th>\n",
       "      <th>zest</th>\n",
       "      <th>zestfully</th>\n",
       "      <th>zesty</th>\n",
       "      <th>zeta</th>\n",
       "      <th>zhang</th>\n",
       "      <th>zhivago</th>\n",
       "      <th>ziggurats</th>\n",
       "      <th>zigs</th>\n",
       "      <th>zigzag</th>\n",
       "      <th>zigzags</th>\n",
       "      <th>zillion</th>\n",
       "      <th>zimmer</th>\n",
       "      <th>zing</th>\n",
       "      <th>zinger</th>\n",
       "      <th>zingers</th>\n",
       "      <th>zings</th>\n",
       "      <th>zingy</th>\n",
       "      <th>zinnemann</th>\n",
       "      <th>zinner</th>\n",
       "      <th>zip</th>\n",
       "      <th>zipper</th>\n",
       "      <th>zippo</th>\n",
       "      <th>zippy</th>\n",
       "      <th>zips</th>\n",
       "      <th>zirconium</th>\n",
       "      <th>zoe</th>\n",
       "      <th>zombie</th>\n",
       "      <th>zombies</th>\n",
       "      <th>zombified</th>\n",
       "      <th>zonca</th>\n",
       "      <th>zone</th>\n",
       "      <th>zoning</th>\n",
       "      <th>zoo</th>\n",
       "      <th>zoological</th>\n",
       "      <th>zoom</th>\n",
       "      <th>zooming</th>\n",
       "      <th>zooms</th>\n",
       "      <th>zorro</th>\n",
       "      <th>zorros</th>\n",
       "      <th>zowie</th>\n",
       "      <th>zucker</th>\n",
       "      <th>zweibel</th>\n",
       "      <th>zwick</th>\n",
       "      <th>zzzzzs</th>\n",
       "      <th>zzzzzzzzz</th>\n",
       "    </tr>\n",
       "  </thead>\n",
       "  <tbody>\n",
       "    <tr>\n",
       "      <th>0</th>\n",
       "      <td>0</td>\n",
       "      <td>0</td>\n",
       "      <td>0</td>\n",
       "      <td>0</td>\n",
       "      <td>0</td>\n",
       "      <td>0</td>\n",
       "      <td>0</td>\n",
       "      <td>0</td>\n",
       "      <td>0</td>\n",
       "      <td>0</td>\n",
       "      <td>0</td>\n",
       "      <td>0</td>\n",
       "      <td>0</td>\n",
       "      <td>0</td>\n",
       "      <td>0</td>\n",
       "      <td>0</td>\n",
       "      <td>0</td>\n",
       "      <td>0</td>\n",
       "      <td>0</td>\n",
       "      <td>0</td>\n",
       "      <td>0</td>\n",
       "      <td>0</td>\n",
       "      <td>0</td>\n",
       "      <td>0</td>\n",
       "      <td>0</td>\n",
       "      <td>0</td>\n",
       "      <td>0</td>\n",
       "      <td>0</td>\n",
       "      <td>0</td>\n",
       "      <td>0</td>\n",
       "      <td>0</td>\n",
       "      <td>0</td>\n",
       "      <td>0</td>\n",
       "      <td>0</td>\n",
       "      <td>0</td>\n",
       "      <td>0</td>\n",
       "      <td>0</td>\n",
       "      <td>0</td>\n",
       "      <td>0</td>\n",
       "      <td>0</td>\n",
       "      <td>0</td>\n",
       "      <td>0</td>\n",
       "      <td>0</td>\n",
       "      <td>0</td>\n",
       "      <td>0</td>\n",
       "      <td>0</td>\n",
       "      <td>0</td>\n",
       "      <td>0</td>\n",
       "      <td>0</td>\n",
       "      <td>0</td>\n",
       "      <td>...</td>\n",
       "      <td>0</td>\n",
       "      <td>0</td>\n",
       "      <td>0</td>\n",
       "      <td>0</td>\n",
       "      <td>0</td>\n",
       "      <td>0</td>\n",
       "      <td>0</td>\n",
       "      <td>0</td>\n",
       "      <td>0</td>\n",
       "      <td>0</td>\n",
       "      <td>0</td>\n",
       "      <td>0</td>\n",
       "      <td>0</td>\n",
       "      <td>0</td>\n",
       "      <td>0</td>\n",
       "      <td>0</td>\n",
       "      <td>0</td>\n",
       "      <td>0</td>\n",
       "      <td>0</td>\n",
       "      <td>0</td>\n",
       "      <td>0</td>\n",
       "      <td>0</td>\n",
       "      <td>0</td>\n",
       "      <td>0</td>\n",
       "      <td>0</td>\n",
       "      <td>0</td>\n",
       "      <td>0</td>\n",
       "      <td>0</td>\n",
       "      <td>0</td>\n",
       "      <td>0</td>\n",
       "      <td>0</td>\n",
       "      <td>0</td>\n",
       "      <td>0</td>\n",
       "      <td>0</td>\n",
       "      <td>0</td>\n",
       "      <td>0</td>\n",
       "      <td>0</td>\n",
       "      <td>0</td>\n",
       "      <td>0</td>\n",
       "      <td>0</td>\n",
       "      <td>0</td>\n",
       "      <td>0</td>\n",
       "      <td>0</td>\n",
       "      <td>0</td>\n",
       "      <td>0</td>\n",
       "      <td>0</td>\n",
       "      <td>0</td>\n",
       "      <td>0</td>\n",
       "      <td>0</td>\n",
       "      <td>0</td>\n",
       "    </tr>\n",
       "    <tr>\n",
       "      <th>1</th>\n",
       "      <td>0</td>\n",
       "      <td>0</td>\n",
       "      <td>0</td>\n",
       "      <td>0</td>\n",
       "      <td>0</td>\n",
       "      <td>0</td>\n",
       "      <td>0</td>\n",
       "      <td>0</td>\n",
       "      <td>0</td>\n",
       "      <td>0</td>\n",
       "      <td>0</td>\n",
       "      <td>0</td>\n",
       "      <td>0</td>\n",
       "      <td>0</td>\n",
       "      <td>0</td>\n",
       "      <td>0</td>\n",
       "      <td>0</td>\n",
       "      <td>0</td>\n",
       "      <td>0</td>\n",
       "      <td>0</td>\n",
       "      <td>0</td>\n",
       "      <td>0</td>\n",
       "      <td>0</td>\n",
       "      <td>0</td>\n",
       "      <td>0</td>\n",
       "      <td>0</td>\n",
       "      <td>0</td>\n",
       "      <td>0</td>\n",
       "      <td>0</td>\n",
       "      <td>0</td>\n",
       "      <td>0</td>\n",
       "      <td>0</td>\n",
       "      <td>0</td>\n",
       "      <td>0</td>\n",
       "      <td>0</td>\n",
       "      <td>0</td>\n",
       "      <td>0</td>\n",
       "      <td>0</td>\n",
       "      <td>0</td>\n",
       "      <td>0</td>\n",
       "      <td>0</td>\n",
       "      <td>0</td>\n",
       "      <td>0</td>\n",
       "      <td>0</td>\n",
       "      <td>0</td>\n",
       "      <td>0</td>\n",
       "      <td>0</td>\n",
       "      <td>0</td>\n",
       "      <td>0</td>\n",
       "      <td>0</td>\n",
       "      <td>...</td>\n",
       "      <td>0</td>\n",
       "      <td>0</td>\n",
       "      <td>0</td>\n",
       "      <td>0</td>\n",
       "      <td>0</td>\n",
       "      <td>0</td>\n",
       "      <td>0</td>\n",
       "      <td>0</td>\n",
       "      <td>0</td>\n",
       "      <td>0</td>\n",
       "      <td>0</td>\n",
       "      <td>0</td>\n",
       "      <td>0</td>\n",
       "      <td>0</td>\n",
       "      <td>0</td>\n",
       "      <td>0</td>\n",
       "      <td>0</td>\n",
       "      <td>0</td>\n",
       "      <td>0</td>\n",
       "      <td>0</td>\n",
       "      <td>0</td>\n",
       "      <td>0</td>\n",
       "      <td>0</td>\n",
       "      <td>0</td>\n",
       "      <td>0</td>\n",
       "      <td>0</td>\n",
       "      <td>0</td>\n",
       "      <td>0</td>\n",
       "      <td>0</td>\n",
       "      <td>0</td>\n",
       "      <td>0</td>\n",
       "      <td>0</td>\n",
       "      <td>0</td>\n",
       "      <td>0</td>\n",
       "      <td>0</td>\n",
       "      <td>0</td>\n",
       "      <td>0</td>\n",
       "      <td>0</td>\n",
       "      <td>0</td>\n",
       "      <td>0</td>\n",
       "      <td>0</td>\n",
       "      <td>0</td>\n",
       "      <td>0</td>\n",
       "      <td>0</td>\n",
       "      <td>0</td>\n",
       "      <td>0</td>\n",
       "      <td>0</td>\n",
       "      <td>0</td>\n",
       "      <td>0</td>\n",
       "      <td>0</td>\n",
       "    </tr>\n",
       "    <tr>\n",
       "      <th>2</th>\n",
       "      <td>0</td>\n",
       "      <td>0</td>\n",
       "      <td>0</td>\n",
       "      <td>0</td>\n",
       "      <td>0</td>\n",
       "      <td>0</td>\n",
       "      <td>0</td>\n",
       "      <td>0</td>\n",
       "      <td>0</td>\n",
       "      <td>0</td>\n",
       "      <td>0</td>\n",
       "      <td>0</td>\n",
       "      <td>0</td>\n",
       "      <td>0</td>\n",
       "      <td>0</td>\n",
       "      <td>0</td>\n",
       "      <td>0</td>\n",
       "      <td>0</td>\n",
       "      <td>0</td>\n",
       "      <td>0</td>\n",
       "      <td>0</td>\n",
       "      <td>0</td>\n",
       "      <td>0</td>\n",
       "      <td>0</td>\n",
       "      <td>0</td>\n",
       "      <td>0</td>\n",
       "      <td>0</td>\n",
       "      <td>0</td>\n",
       "      <td>0</td>\n",
       "      <td>0</td>\n",
       "      <td>0</td>\n",
       "      <td>0</td>\n",
       "      <td>0</td>\n",
       "      <td>0</td>\n",
       "      <td>0</td>\n",
       "      <td>0</td>\n",
       "      <td>0</td>\n",
       "      <td>0</td>\n",
       "      <td>0</td>\n",
       "      <td>0</td>\n",
       "      <td>0</td>\n",
       "      <td>0</td>\n",
       "      <td>0</td>\n",
       "      <td>0</td>\n",
       "      <td>0</td>\n",
       "      <td>0</td>\n",
       "      <td>0</td>\n",
       "      <td>0</td>\n",
       "      <td>0</td>\n",
       "      <td>0</td>\n",
       "      <td>...</td>\n",
       "      <td>0</td>\n",
       "      <td>0</td>\n",
       "      <td>0</td>\n",
       "      <td>0</td>\n",
       "      <td>0</td>\n",
       "      <td>0</td>\n",
       "      <td>0</td>\n",
       "      <td>0</td>\n",
       "      <td>0</td>\n",
       "      <td>0</td>\n",
       "      <td>0</td>\n",
       "      <td>0</td>\n",
       "      <td>0</td>\n",
       "      <td>0</td>\n",
       "      <td>0</td>\n",
       "      <td>0</td>\n",
       "      <td>0</td>\n",
       "      <td>0</td>\n",
       "      <td>0</td>\n",
       "      <td>0</td>\n",
       "      <td>0</td>\n",
       "      <td>0</td>\n",
       "      <td>0</td>\n",
       "      <td>0</td>\n",
       "      <td>0</td>\n",
       "      <td>0</td>\n",
       "      <td>0</td>\n",
       "      <td>0</td>\n",
       "      <td>0</td>\n",
       "      <td>0</td>\n",
       "      <td>0</td>\n",
       "      <td>0</td>\n",
       "      <td>0</td>\n",
       "      <td>0</td>\n",
       "      <td>0</td>\n",
       "      <td>0</td>\n",
       "      <td>0</td>\n",
       "      <td>0</td>\n",
       "      <td>0</td>\n",
       "      <td>0</td>\n",
       "      <td>0</td>\n",
       "      <td>0</td>\n",
       "      <td>0</td>\n",
       "      <td>0</td>\n",
       "      <td>0</td>\n",
       "      <td>0</td>\n",
       "      <td>0</td>\n",
       "      <td>0</td>\n",
       "      <td>0</td>\n",
       "      <td>0</td>\n",
       "    </tr>\n",
       "    <tr>\n",
       "      <th>3</th>\n",
       "      <td>0</td>\n",
       "      <td>0</td>\n",
       "      <td>0</td>\n",
       "      <td>0</td>\n",
       "      <td>0</td>\n",
       "      <td>0</td>\n",
       "      <td>0</td>\n",
       "      <td>0</td>\n",
       "      <td>0</td>\n",
       "      <td>0</td>\n",
       "      <td>0</td>\n",
       "      <td>0</td>\n",
       "      <td>0</td>\n",
       "      <td>0</td>\n",
       "      <td>0</td>\n",
       "      <td>0</td>\n",
       "      <td>0</td>\n",
       "      <td>0</td>\n",
       "      <td>0</td>\n",
       "      <td>0</td>\n",
       "      <td>0</td>\n",
       "      <td>0</td>\n",
       "      <td>0</td>\n",
       "      <td>0</td>\n",
       "      <td>0</td>\n",
       "      <td>0</td>\n",
       "      <td>0</td>\n",
       "      <td>0</td>\n",
       "      <td>0</td>\n",
       "      <td>0</td>\n",
       "      <td>0</td>\n",
       "      <td>0</td>\n",
       "      <td>0</td>\n",
       "      <td>0</td>\n",
       "      <td>0</td>\n",
       "      <td>0</td>\n",
       "      <td>0</td>\n",
       "      <td>0</td>\n",
       "      <td>0</td>\n",
       "      <td>0</td>\n",
       "      <td>0</td>\n",
       "      <td>0</td>\n",
       "      <td>0</td>\n",
       "      <td>0</td>\n",
       "      <td>0</td>\n",
       "      <td>0</td>\n",
       "      <td>0</td>\n",
       "      <td>0</td>\n",
       "      <td>0</td>\n",
       "      <td>0</td>\n",
       "      <td>...</td>\n",
       "      <td>0</td>\n",
       "      <td>0</td>\n",
       "      <td>0</td>\n",
       "      <td>0</td>\n",
       "      <td>0</td>\n",
       "      <td>0</td>\n",
       "      <td>0</td>\n",
       "      <td>0</td>\n",
       "      <td>0</td>\n",
       "      <td>0</td>\n",
       "      <td>0</td>\n",
       "      <td>0</td>\n",
       "      <td>0</td>\n",
       "      <td>0</td>\n",
       "      <td>0</td>\n",
       "      <td>0</td>\n",
       "      <td>0</td>\n",
       "      <td>0</td>\n",
       "      <td>0</td>\n",
       "      <td>0</td>\n",
       "      <td>0</td>\n",
       "      <td>0</td>\n",
       "      <td>0</td>\n",
       "      <td>0</td>\n",
       "      <td>0</td>\n",
       "      <td>0</td>\n",
       "      <td>0</td>\n",
       "      <td>0</td>\n",
       "      <td>0</td>\n",
       "      <td>0</td>\n",
       "      <td>0</td>\n",
       "      <td>0</td>\n",
       "      <td>0</td>\n",
       "      <td>0</td>\n",
       "      <td>0</td>\n",
       "      <td>0</td>\n",
       "      <td>0</td>\n",
       "      <td>0</td>\n",
       "      <td>0</td>\n",
       "      <td>0</td>\n",
       "      <td>0</td>\n",
       "      <td>0</td>\n",
       "      <td>0</td>\n",
       "      <td>0</td>\n",
       "      <td>0</td>\n",
       "      <td>0</td>\n",
       "      <td>0</td>\n",
       "      <td>0</td>\n",
       "      <td>0</td>\n",
       "      <td>0</td>\n",
       "    </tr>\n",
       "    <tr>\n",
       "      <th>4</th>\n",
       "      <td>0</td>\n",
       "      <td>0</td>\n",
       "      <td>0</td>\n",
       "      <td>0</td>\n",
       "      <td>0</td>\n",
       "      <td>0</td>\n",
       "      <td>0</td>\n",
       "      <td>0</td>\n",
       "      <td>0</td>\n",
       "      <td>0</td>\n",
       "      <td>0</td>\n",
       "      <td>0</td>\n",
       "      <td>0</td>\n",
       "      <td>0</td>\n",
       "      <td>0</td>\n",
       "      <td>0</td>\n",
       "      <td>0</td>\n",
       "      <td>0</td>\n",
       "      <td>0</td>\n",
       "      <td>0</td>\n",
       "      <td>0</td>\n",
       "      <td>0</td>\n",
       "      <td>0</td>\n",
       "      <td>0</td>\n",
       "      <td>0</td>\n",
       "      <td>0</td>\n",
       "      <td>0</td>\n",
       "      <td>0</td>\n",
       "      <td>0</td>\n",
       "      <td>0</td>\n",
       "      <td>0</td>\n",
       "      <td>0</td>\n",
       "      <td>0</td>\n",
       "      <td>0</td>\n",
       "      <td>0</td>\n",
       "      <td>0</td>\n",
       "      <td>0</td>\n",
       "      <td>0</td>\n",
       "      <td>0</td>\n",
       "      <td>0</td>\n",
       "      <td>0</td>\n",
       "      <td>0</td>\n",
       "      <td>0</td>\n",
       "      <td>0</td>\n",
       "      <td>0</td>\n",
       "      <td>0</td>\n",
       "      <td>0</td>\n",
       "      <td>0</td>\n",
       "      <td>0</td>\n",
       "      <td>0</td>\n",
       "      <td>...</td>\n",
       "      <td>0</td>\n",
       "      <td>0</td>\n",
       "      <td>0</td>\n",
       "      <td>0</td>\n",
       "      <td>0</td>\n",
       "      <td>0</td>\n",
       "      <td>0</td>\n",
       "      <td>0</td>\n",
       "      <td>0</td>\n",
       "      <td>0</td>\n",
       "      <td>0</td>\n",
       "      <td>0</td>\n",
       "      <td>0</td>\n",
       "      <td>0</td>\n",
       "      <td>0</td>\n",
       "      <td>0</td>\n",
       "      <td>0</td>\n",
       "      <td>0</td>\n",
       "      <td>0</td>\n",
       "      <td>0</td>\n",
       "      <td>0</td>\n",
       "      <td>0</td>\n",
       "      <td>0</td>\n",
       "      <td>0</td>\n",
       "      <td>0</td>\n",
       "      <td>0</td>\n",
       "      <td>0</td>\n",
       "      <td>0</td>\n",
       "      <td>0</td>\n",
       "      <td>0</td>\n",
       "      <td>0</td>\n",
       "      <td>0</td>\n",
       "      <td>0</td>\n",
       "      <td>0</td>\n",
       "      <td>0</td>\n",
       "      <td>0</td>\n",
       "      <td>0</td>\n",
       "      <td>0</td>\n",
       "      <td>0</td>\n",
       "      <td>0</td>\n",
       "      <td>0</td>\n",
       "      <td>0</td>\n",
       "      <td>0</td>\n",
       "      <td>0</td>\n",
       "      <td>0</td>\n",
       "      <td>0</td>\n",
       "      <td>0</td>\n",
       "      <td>0</td>\n",
       "      <td>0</td>\n",
       "      <td>0</td>\n",
       "    </tr>\n",
       "  </tbody>\n",
       "</table>\n",
       "<p>5 rows × 22417 columns</p>\n",
       "</div>"
      ],
      "text/plain": [
       "   000  0014  007  044  07  10  100  101  102  104  105  108  10th  11  110  112  1138  114  118  11th  12  124  125  128  13  130  131  132  133  134  136  137  13th  14  141  145  15  153  15th  16  160  161  1660s  16mm  16th  17  17th  18  180  185    ...      zellweger  zemeckis  zen  zero  zeroes  zest  zestfully  zesty  zeta  zhang  zhivago  ziggurats  zigs  zigzag  zigzags  zillion  zimmer  zing  zinger  zingers  zings  zingy  zinnemann  zinner  zip  zipper  zippo  zippy  zips  \\\n",
       "0    0     0    0    0   0   0    0    0    0    0    0    0     0   0    0    0     0    0    0     0   0    0    0    0   0    0    0    0    0    0    0    0     0   0    0    0   0    0     0   0    0    0      0     0     0   0     0   0    0    0    ...              0         0    0     0       0     0          0      0     0      0        0          0     0       0        0        0       0     0       0        0      0      0          0       0    0       0      0      0     0   \n",
       "1    0     0    0    0   0   0    0    0    0    0    0    0     0   0    0    0     0    0    0     0   0    0    0    0   0    0    0    0    0    0    0    0     0   0    0    0   0    0     0   0    0    0      0     0     0   0     0   0    0    0    ...              0         0    0     0       0     0          0      0     0      0        0          0     0       0        0        0       0     0       0        0      0      0          0       0    0       0      0      0     0   \n",
       "2    0     0    0    0   0   0    0    0    0    0    0    0     0   0    0    0     0    0    0     0   0    0    0    0   0    0    0    0    0    0    0    0     0   0    0    0   0    0     0   0    0    0      0     0     0   0     0   0    0    0    ...              0         0    0     0       0     0          0      0     0      0        0          0     0       0        0        0       0     0       0        0      0      0          0       0    0       0      0      0     0   \n",
       "3    0     0    0    0   0   0    0    0    0    0    0    0     0   0    0    0     0    0    0     0   0    0    0    0   0    0    0    0    0    0    0    0     0   0    0    0   0    0     0   0    0    0      0     0     0   0     0   0    0    0    ...              0         0    0     0       0     0          0      0     0      0        0          0     0       0        0        0       0     0       0        0      0      0          0       0    0       0      0      0     0   \n",
       "4    0     0    0    0   0   0    0    0    0    0    0    0     0   0    0    0     0    0    0     0   0    0    0    0   0    0    0    0    0    0    0    0     0   0    0    0   0    0     0   0    0    0      0     0     0   0     0   0    0    0    ...              0         0    0     0       0     0          0      0     0      0        0          0     0       0        0        0       0     0       0        0      0      0          0       0    0       0      0      0     0   \n",
       "\n",
       "   zirconium  zoe  zombie  zombies  zombified  zonca  zone  zoning  zoo  zoological  zoom  zooming  zooms  zorro  zorros  zowie  zucker  zweibel  zwick  zzzzzs  zzzzzzzzz  \n",
       "0          0    0       0        0          0      0     0       0    0           0     0        0      0      0       0      0       0        0      0       0          0  \n",
       "1          0    0       0        0          0      0     0       0    0           0     0        0      0      0       0      0       0        0      0       0          0  \n",
       "2          0    0       0        0          0      0     0       0    0           0     0        0      0      0       0      0       0        0      0       0          0  \n",
       "3          0    0       0        0          0      0     0       0    0           0     0        0      0      0       0      0       0        0      0       0          0  \n",
       "4          0    0       0        0          0      0     0       0    0           0     0        0      0      0       0      0       0        0      0       0          0  \n",
       "\n",
       "[5 rows x 22417 columns]"
      ]
     },
     "execution_count": 72,
     "metadata": {},
     "output_type": "execute_result"
    }
   ],
   "source": [
    "# this means withn 20  document count, there r already 90% of the words. please show how the projection goes.\n",
    "mydata.head()"
   ]
  },
  {
   "cell_type": "markdown",
   "metadata": {},
   "source": [
    "The parameter $\\alpha$ is chosen to be a small value that simply avoids having zeros in the probability computations. This value can sometimes be chosen arbitrarily with domain expertise, but we will use K-fold cross validation. In K-fold cross-validation, we divide the data into $K$ non-overlapping parts. We train on $K-1$ of the folds and test on the remaining fold. We then iterate, so that each fold serves as the test fold exactly once. The function `cv_score` performs the K-fold cross-validation algorithm for us, but we need to pass a function that measures the performance of the algorithm on each fold. "
   ]
  },
  {
   "cell_type": "code",
   "execution_count": 73,
   "metadata": {
    "collapsed": true
   },
   "outputs": [],
   "source": [
    "from sklearn.model_selection import KFold\n",
    "def cv_score(clf, X, y, scorefunc):\n",
    "    result = 0.\n",
    "    nfold = 5\n",
    "    for train, test in KFold(nfold).split(X): # split data into train/test groups, 5 times\n",
    "        clf.fit(X[train], y[train]) # fit the classifier, passed is as clf.\n",
    "        result += scorefunc(clf, X[test], y[test]) # evaluate score function on held-out data\n",
    "    return result / nfold # average"
   ]
  },
  {
   "cell_type": "code",
   "execution_count": 81,
   "metadata": {},
   "outputs": [
    {
     "data": {
      "text/plain": [
       "-1775.8478195467501"
      ]
     },
     "execution_count": 81,
     "metadata": {},
     "output_type": "execute_result"
    }
   ],
   "source": [
    "cv_score(clf,X,y,log_likelihood)"
   ]
  },
  {
   "cell_type": "markdown",
   "metadata": {},
   "source": [
    "We use the log-likelihood as the score here in `scorefunc`. The higher the log-likelihood, the better. Indeed, what we do in `cv_score` above is to implement the cross-validation part of `GridSearchCV`.\n",
    "\n",
    "The custom scoring function `scorefunc` allows us to use different metrics depending on the decision risk we care about (precision, accuracy, profit etc.) directly on the validation set. You will often find people using `roc_auc`, precision, recall, or `F1-score` as the scoring function."
   ]
  },
  {
   "cell_type": "code",
   "execution_count": 74,
   "metadata": {
    "collapsed": true
   },
   "outputs": [],
   "source": [
    "def log_likelihood(clf, x, y):\n",
    "    prob = clf.predict_log_proba(x)\n",
    "    rotten = y == 0\n",
    "    fresh = ~rotten\n",
    "    return prob[rotten, 0].sum() + prob[fresh, 1].sum()"
   ]
  },
  {
   "cell_type": "markdown",
   "metadata": {},
   "source": [
    "We'll cross-validate over the regularization parameter $\\alpha$."
   ]
  },
  {
   "cell_type": "markdown",
   "metadata": {},
   "source": [
    "Let's set up the train and test masks first, and then we can run the cross-validation procedure."
   ]
  },
  {
   "cell_type": "code",
   "execution_count": 110,
   "metadata": {
    "collapsed": true
   },
   "outputs": [],
   "source": [
    "from sklearn.model_selection import train_test_split\n",
    "_, itest = train_test_split(range(critics.shape[0]), train_size=0.7, test_size=0.3)\n",
    "mask = np.zeros(critics.shape[0], dtype=np.bool)\n",
    "mask[itest] = True"
   ]
  },
  {
   "cell_type": "markdown",
   "metadata": {},
   "source": [
    "<div class=\"span5 alert alert-info\">\n",
    "<h3>Exercise Set IV</h3>\n",
    "\n",
    "<p><b>Exercise:</b> What does using the function `log_likelihood` as the score mean? What are we trying to optimize for?</p>\n",
    "\n",
    "<p><b>Exercise:</b> Without writing any code, what do you think would happen if you choose a value of $\\alpha$ that is too high?</p>\n",
    "\n",
    "<p><b>Exercise:</b> Using the skeleton code below, find the best values of the parameter `alpha`, and use the value of `min_df` you chose in the previous exercise set. Use the `cv_score` function above with the `log_likelihood` function for scoring.</p>\n",
    "</div>"
   ]
  },
  {
   "cell_type": "code",
   "execution_count": 103,
   "metadata": {},
   "outputs": [
    {
     "name": "stdout",
     "output_type": "stream",
     "text": [
      "0.1 -962.371932012\n",
      "1 -635.090831568\n",
      "5 -1018.01801944\n",
      "10 -1240.37384872\n",
      "50 -1334.33321054\n"
     ]
    }
   ],
   "source": [
    "from sklearn.naive_bayes import MultinomialNB\n",
    "\n",
    "#the grid of parameters to search over\n",
    "alphas = [.1, 1, 5, 10, 50]\n",
    "best_min_df = 2 # YOUR TURN: put your value of min_df here.\n",
    "\n",
    "#Find the best value for alpha and min_df, and the best classifier\n",
    "best_alpha = 1\n",
    "maxscore=-np.inf\n",
    "for alpha in alphas:        \n",
    "    vectorizer = CountVectorizer(min_df=best_min_df)       \n",
    "    Xthis, ythis = make_xy(critics, vectorizer)\n",
    "    Xtrainthis = Xthis[mask]\n",
    "    ytrainthis = ythis[mask]\n",
    "    clf=MultinomialNB(alpha=alpha)\n",
    "\n",
    "    print (alpha, cv_score(clf,Xtrainthis,ytrainthis,log_likelihood))"
   ]
  },
  {
   "cell_type": "code",
   "execution_count": null,
   "metadata": {
    "collapsed": true
   },
   "outputs": [],
   "source": [
    "# choose the highest value even though it's negetive."
   ]
  },
  {
   "cell_type": "code",
   "execution_count": 105,
   "metadata": {},
   "outputs": [
    {
     "name": "stdout",
     "output_type": "stream",
     "text": [
      "alpha: 1\n"
     ]
    }
   ],
   "source": [
    "print(\"alpha: {}\".format(best_alpha))"
   ]
  },
  {
   "cell_type": "markdown",
   "metadata": {},
   "source": [
    "<div class=\"span5 alert alert-info\">\n",
    "<h3>Exercise Set V: Working with the Best Parameters</h3>\n",
    "\n",
    "<p><b>Exercise:</b> Using the best value of  `alpha` you just found, calculate the accuracy on the training and test sets. Is this classifier better? Why (not)?</p>\n",
    "\n",
    "</div>"
   ]
  },
  {
   "cell_type": "code",
   "execution_count": 106,
   "metadata": {},
   "outputs": [
    {
     "name": "stdout",
     "output_type": "stream",
     "text": [
      "Accuracy on training data: 0.939602\n",
      "Accuracy on test data:     0.741921\n"
     ]
    }
   ],
   "source": [
    "vectorizer = CountVectorizer(min_df=best_min_df)\n",
    "X, y = make_xy(critics, vectorizer)\n",
    "xtrain=X[mask]\n",
    "ytrain=y[mask]\n",
    "xtest=X[~mask]\n",
    "ytest=y[~mask]\n",
    "\n",
    "clf = MultinomialNB(alpha=best_alpha).fit(xtrain, ytrain)\n",
    "\n",
    "#your turn. Print the accuracy on the test and training dataset\n",
    "training_accuracy = clf.score(xtrain, ytrain)\n",
    "test_accuracy = clf.score(xtest, ytest)\n",
    "\n",
    "print(\"Accuracy on training data: {:2f}\".format(training_accuracy))\n",
    "print(\"Accuracy on test data:     {:2f}\".format(test_accuracy))"
   ]
  },
  {
   "cell_type": "code",
   "execution_count": 107,
   "metadata": {},
   "outputs": [
    {
     "name": "stdout",
     "output_type": "stream",
     "text": [
      "[[2407 1868]\n",
      " [ 943 5674]]\n"
     ]
    }
   ],
   "source": [
    "from sklearn.metrics import confusion_matrix\n",
    "print(confusion_matrix(ytest, clf.predict(xtest)))"
   ]
  },
  {
   "cell_type": "markdown",
   "metadata": {},
   "source": [
    "## Interpretation"
   ]
  },
  {
   "cell_type": "markdown",
   "metadata": {},
   "source": [
    "### What are the strongly predictive features?\n",
    "\n",
    "We use a neat trick to identify strongly predictive features (i.e. words). \n",
    "\n",
    "* first, create a data set such that each row has exactly one feature. This is represented by the identity matrix.\n",
    "* use the trained classifier to make predictions on this matrix\n",
    "* sort the rows by predicted probabilities, and pick the top and bottom $K$ rows"
   ]
  },
  {
   "cell_type": "code",
   "execution_count": 120,
   "metadata": {},
   "outputs": [
    {
     "data": {
      "text/plain": [
       "['zippy',\n",
       " 'zoe',\n",
       " 'zombie',\n",
       " 'zombies',\n",
       " 'zone',\n",
       " 'zoning',\n",
       " 'zooms',\n",
       " 'zorro',\n",
       " 'zucker',\n",
       " 'zwick']"
      ]
     },
     "execution_count": 120,
     "metadata": {},
     "output_type": "execute_result"
    }
   ],
   "source": [
    "vectorizer.get_feature_names()[-10:]"
   ]
  },
  {
   "cell_type": "code",
   "execution_count": 111,
   "metadata": {},
   "outputs": [
    {
     "name": "stdout",
     "output_type": "stream",
     "text": [
      "Good words\t     P(fresh | word)\n",
      "         masterpiece 0.97\n",
      "            touching 0.95\n",
      "          remarkable 0.95\n",
      "            stunning 0.95\n",
      "               witty 0.94\n",
      "                rare 0.94\n",
      "            succeeds 0.94\n",
      "         brilliantly 0.94\n",
      "               equal 0.94\n",
      "            provides 0.94\n",
      "Bad words\t     P(fresh | word)\n",
      "       disappointing 0.12\n",
      "            tiresome 0.12\n",
      "             witless 0.12\n",
      "               tired 0.12\n",
      "             tedious 0.11\n",
      "               sadly 0.11\n",
      "             unfunny 0.11\n",
      "               bland 0.10\n",
      "          uninspired 0.09\n",
      "                lame 0.09\n"
     ]
    }
   ],
   "source": [
    "words = np.array(vectorizer.get_feature_names())\n",
    "\n",
    "x = np.eye(xtest.shape[1])\n",
    "probs = clf.predict_log_proba(x)[:, 0]\n",
    "ind = np.argsort(probs)\n",
    "\n",
    "good_words = words[ind[:10]]\n",
    "bad_words = words[ind[-10:]]\n",
    "\n",
    "good_prob = probs[ind[:10]]\n",
    "bad_prob = probs[ind[-10:]]\n",
    "\n",
    "print(\"Good words\\t     P(fresh | word)\")\n",
    "for w, p in zip(good_words, good_prob):\n",
    "    print(\"{:>20}\".format(w), \"{:.2f}\".format(1 - np.exp(p)))\n",
    "    \n",
    "print(\"Bad words\\t     P(fresh | word)\")\n",
    "for w, p in zip(bad_words, bad_prob):\n",
    "    print(\"{:>20}\".format(w), \"{:.2f}\".format(1 - np.exp(p)))"
   ]
  },
  {
   "cell_type": "markdown",
   "metadata": {},
   "source": [
    "<div class=\"span5 alert alert-info\">\n",
    "<h3>Exercise Set VI</h3>\n",
    "\n",
    "<p><b>Exercise:</b> Why does this method work? What does the probability for each row in the identity matrix represent</p>\n",
    "\n",
    "</div>"
   ]
  },
  {
   "cell_type": "markdown",
   "metadata": {},
   "source": [
    "The above exercise is an example of *feature selection*. There are many other feature selection methods. A list of feature selection methods available in `sklearn` is [here](http://scikit-learn.org/stable/modules/classes.html#module-sklearn.feature_selection). The most common feature selection technique for text mining is the chi-squared $\\left( \\chi^2 \\right)$ [method](http://nlp.stanford.edu/IR-book/html/htmledition/feature-selectionchi2-feature-selection-1.html)."
   ]
  },
  {
   "cell_type": "markdown",
   "metadata": {},
   "source": [
    "### Prediction Errors\n",
    "\n",
    "We can see mis-predictions as well."
   ]
  },
  {
   "cell_type": "code",
   "execution_count": 112,
   "metadata": {},
   "outputs": [
    {
     "name": "stdout",
     "output_type": "stream",
     "text": [
      "Mis-predicted Rotten quotes\n",
      "---------------------------\n",
      "Herzog offers some evidence of Kinski's great human warmth, somewhat more of his rage of unimaginable proportions, and a good demonstration of Kinski's uncanny capacity to corkscrew his way into the frame.\n",
      "\n",
      "As a depiction of a loving-turbulent relationship between a single mom (Susan Sarandon) and her rebellious teenage daughter (Natalie Portman), Wang's meller is nicely crafted but old-fashioned like Hollywood's weepies of yesteryear.\n",
      "\n",
      "All of the special effects in the world, and all of the great makeup, and all of the great Muppet creatures can't save a movie that has no clear idea of its own mission and no joy in its own accomplishment.\n",
      "\n",
      "Part comedy, part family drama, part romance, part special-effects mystery-adventure, and not entirely satisfying on any of these levels.\n",
      "\n",
      "Malkovich does such wonderfully unexpected things, especially with his line readings, that he leaves us dumbfounded. No other performer is more effortlessly unnerving than this perversely gifted actor.\n",
      "\n",
      "Mis-predicted Fresh quotes\n",
      "--------------------------\n",
      "This tough-to-peg whodunit keeps you going for two hours, despite a few James Bond-ish (or Jane Bond-ish) turns that play less preposterously than you might assume were they to be divulged.\n",
      "\n",
      "Franklin relies too much on easy laugh-getters such as flatulence and crotch-kick gags, but at least he does provide his half-baked script with a fairly satisfying wrap-up.\n",
      "\n",
      "I saw this at a festival and hated it, then sat through it again a year later and decided it wasn't so bad, aside from the god-awful ending.\n",
      "\n",
      "Some of the gags don't work, but fewer than in any previous Brooks film that I've seen, and when the jokes are meant to be bad, they are riotously poor. What more can one ask of Mel Brooks?\n",
      "\n",
      "This one is neither crude clowning nor crude prejudice, but a literate and knowingly directed satire which lands many a shrewd crack about phony Five Year Plans, collective farms, Communist jargon and pseudo-scientific gab.\n",
      "\n"
     ]
    }
   ],
   "source": [
    "x, y = make_xy(critics, vectorizer)\n",
    "\n",
    "prob = clf.predict_proba(x)[:, 0]\n",
    "predict = clf.predict(x)\n",
    "\n",
    "bad_rotten = np.argsort(prob[y == 0])[:5]\n",
    "bad_fresh = np.argsort(prob[y == 1])[-5:]\n",
    "\n",
    "print(\"Mis-predicted Rotten quotes\")\n",
    "print('---------------------------')\n",
    "for row in bad_rotten:\n",
    "    print(critics[y == 0].quote.iloc[row])\n",
    "    print(\"\")\n",
    "\n",
    "print(\"Mis-predicted Fresh quotes\")\n",
    "print('--------------------------')\n",
    "for row in bad_fresh:\n",
    "    print(critics[y == 1].quote.iloc[row])\n",
    "    print(\"\")"
   ]
  },
  {
   "cell_type": "markdown",
   "metadata": {},
   "source": [
    "<div class=\"span5 alert alert-info\">\n",
    "<h3>Exercise Set VII: Predicting the Freshness for a New Review</h3>\n",
    "<br/>\n",
    "<div>\n",
    "<b>Exercise:</b>\n",
    "<ul>\n",
    "<li> Using your best trained classifier, predict the freshness of the following sentence: *'This movie is not remarkable, touching, or superb in any way'*\n",
    "<li> Is the result what you'd expect? Why (not)?\n",
    "</ul>\n",
    "</div>\n",
    "</div>"
   ]
  },
  {
   "cell_type": "code",
   "execution_count": 127,
   "metadata": {},
   "outputs": [
    {
     "name": "stdout",
     "output_type": "stream",
     "text": [
      "[ 0.99947949]\n"
     ]
    }
   ],
   "source": [
    "#your turn\n",
    "vectorizer = CountVectorizer(min_df=best_min_df)\n",
    "X, y = make_xy(critics, vectorizer)\n",
    "clf = MultinomialNB(alpha = best_alpha).fit(X,y)\n",
    "\n",
    "new_data = \"This movie is not remarkable, touching, or superb in any way\"\n",
    "\n",
    "clf.predict(vectorizer.transform([new_data]))\n",
    "print(clf.predict_proba(vectorizer.transform([new_data]))[:, 1])"
   ]
  },
  {
   "cell_type": "markdown",
   "metadata": {},
   "source": [
    "### Aside: TF-IDF Weighting for Term Importance\n",
    "\n",
    "TF-IDF stands for \n",
    "\n",
    "`Term-Frequency X Inverse Document Frequency`.\n",
    "\n",
    "In the standard `CountVectorizer` model above, we used just the term frequency in a document of words in our vocabulary. In TF-IDF, we weight this term frequency by the inverse of its popularity in all documents. For example, if the word \"movie\" showed up in all the documents, it would not have much predictive value. It could actually be considered a stopword. By weighing its counts by 1 divided by its overall frequency, we downweight it. We can then use this TF-IDF weighted features as inputs to any classifier. **TF-IDF is essentially a measure of term importance, and of how discriminative a word is in a corpus.** There are a variety of nuances involved in computing TF-IDF, mainly involving where to add the smoothing term to avoid division by 0, or log of 0 errors. The formula for TF-IDF in `scikit-learn` differs from that of most textbooks: \n",
    "\n",
    "$$\\mbox{TF-IDF}(t, d) = \\mbox{TF}(t, d)\\times \\mbox{IDF}(t) = n_{td} \\log{\\left( \\frac{\\vert D \\vert}{\\vert d : t \\in d \\vert} + 1 \\right)}$$\n",
    "\n",
    "where $n_{td}$ is the number of times term $t$ occurs in document $d$, $\\vert D \\vert$ is the number of documents, and $\\vert d : t \\in d \\vert$ is the number of documents that contain $t$"
   ]
  },
  {
   "cell_type": "code",
   "execution_count": 122,
   "metadata": {
    "collapsed": true
   },
   "outputs": [],
   "source": [
    "# http://scikit-learn.org/dev/modules/feature_extraction.html#text-feature-extraction\n",
    "# http://scikit-learn.org/dev/modules/classes.html#text-feature-extraction-ref\n",
    "from sklearn.feature_extraction.text import TfidfVectorizer\n",
    "tfidfvectorizer = TfidfVectorizer(min_df=1, stop_words='english')\n",
    "Xtfidf=tfidfvectorizer.fit_transform(critics.quote)"
   ]
  },
  {
   "cell_type": "markdown",
   "metadata": {},
   "source": [
    "<div class=\"span5 alert alert-info\">\n",
    "<h3>Exercise Set VIII: Enrichment <b>(Optional)</b></h3>\n",
    "\n",
    "<p>\n",
    "There are several additional things we could try. Try some of these as exercises:\n",
    "<ol>\n",
    "<li> Build a Naive Bayes model where the features are n-grams instead of words. N-grams are phrases containing n words next to each other: a bigram contains 2 words, a trigram contains 3 words, and 6-gram contains 6 words. This is useful because \"not good\" and \"so good\" mean very different things. On the other hand, as n increases, the model does not scale well since the feature set becomes more sparse.\n",
    "<li> Try a model besides Naive Bayes, one that would allow for interactions between words -- for example, a Random Forest classifier.\n",
    "<li> Try adding supplemental features -- information about genre, director, cast, etc.\n",
    "<li> Use word2vec or [Latent Dirichlet Allocation](https://en.wikipedia.org/wiki/Latent_Dirichlet_allocation) to group words into topics and use those topics for prediction.\n",
    "<li> Use TF-IDF weighting instead of word counts.\n",
    "</ol>\n",
    "</p>\n",
    "\n",
    "<b>Exercise:</b> Try at least one of these ideas to improve the model (or any other ideas of your own). Implement here and report on the result. \n",
    "</div>"
   ]
  },
  {
   "cell_type": "code",
   "execution_count": 125,
   "metadata": {},
   "outputs": [
    {
     "name": "stdout",
     "output_type": "stream",
     "text": [
      "0.615763546798 0.606683804627\n"
     ]
    }
   ],
   "source": [
    "# Your turn\n",
    "from sklearn.ensemble import RandomForestClassifier\n",
    "from sklearn.datasets import make_classification\n",
    "vectorizer = CountVectorizer(min_df=best_min_df)\n",
    "X, y = make_xy(critics)\n",
    "xtrain=X[mask]\n",
    "ytrain=y[mask]\n",
    "xtest=X[~mask]\n",
    "ytest=y[~mask]\n",
    "classifier = RandomForestClassifier(max_depth=2, random_state=0)\n",
    "classifier.fit(xtrain,ytrain)\n",
    "classifier.predict(xtest)\n",
    "training_accuracy = classifier.score(xtrain, ytrain)\n",
    "test_accuracy = classifier.score(xtest, ytest)\n",
    "print(training_accuracy,test_accuracy)"
   ]
  },
  {
   "cell_type": "code",
   "execution_count": null,
   "metadata": {
    "collapsed": true
   },
   "outputs": [],
   "source": []
  }
 ],
 "metadata": {
  "kernelspec": {
   "display_name": "Python 3",
   "language": "python",
   "name": "python3"
  },
  "language_info": {
   "codemirror_mode": {
    "name": "ipython",
    "version": 3
   },
   "file_extension": ".py",
   "mimetype": "text/x-python",
   "name": "python",
   "nbconvert_exporter": "python",
   "pygments_lexer": "ipython3",
   "version": "3.6.3"
  }
 },
 "nbformat": 4,
 "nbformat_minor": 1
}
